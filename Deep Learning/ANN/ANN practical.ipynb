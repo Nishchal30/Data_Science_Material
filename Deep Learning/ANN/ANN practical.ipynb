{
 "cells": [
  {
   "cell_type": "code",
   "execution_count": 1,
   "metadata": {},
   "outputs": [],
   "source": [
    "import tensorflow\n",
    "import pandas as pd\n",
    "import numpy as np\n",
    "import warnings\n",
    "warnings.filterwarnings(\"ignore\")\n",
    "import sklearn\n",
    "import matplotlib.pyplot as plt\n",
    "\n",
    "#pd.options.display.max_rows = 1000"
   ]
  },
  {
   "cell_type": "code",
   "execution_count": 2,
   "metadata": {},
   "outputs": [
    {
     "data": {
      "text/plain": [
       "'2.10.0'"
      ]
     },
     "execution_count": 2,
     "metadata": {},
     "output_type": "execute_result"
    }
   ],
   "source": [
    "tensorflow.__version__"
   ]
  },
  {
   "cell_type": "code",
   "execution_count": 3,
   "metadata": {},
   "outputs": [
    {
     "data": {
      "text/html": [
       "<div>\n",
       "<style scoped>\n",
       "    .dataframe tbody tr th:only-of-type {\n",
       "        vertical-align: middle;\n",
       "    }\n",
       "\n",
       "    .dataframe tbody tr th {\n",
       "        vertical-align: top;\n",
       "    }\n",
       "\n",
       "    .dataframe thead th {\n",
       "        text-align: right;\n",
       "    }\n",
       "</style>\n",
       "<table border=\"1\" class=\"dataframe\">\n",
       "  <thead>\n",
       "    <tr style=\"text-align: right;\">\n",
       "      <th></th>\n",
       "      <th>class</th>\n",
       "      <th>aa_000</th>\n",
       "      <th>ab_000</th>\n",
       "      <th>ac_000</th>\n",
       "      <th>ad_000</th>\n",
       "      <th>ae_000</th>\n",
       "      <th>af_000</th>\n",
       "      <th>ag_000</th>\n",
       "      <th>ag_001</th>\n",
       "      <th>ag_002</th>\n",
       "      <th>...</th>\n",
       "      <th>ee_002</th>\n",
       "      <th>ee_003</th>\n",
       "      <th>ee_004</th>\n",
       "      <th>ee_005</th>\n",
       "      <th>ee_006</th>\n",
       "      <th>ee_007</th>\n",
       "      <th>ee_008</th>\n",
       "      <th>ee_009</th>\n",
       "      <th>ef_000</th>\n",
       "      <th>eg_000</th>\n",
       "    </tr>\n",
       "  </thead>\n",
       "  <tbody>\n",
       "    <tr>\n",
       "      <th>0</th>\n",
       "      <td>neg</td>\n",
       "      <td>6</td>\n",
       "      <td>0</td>\n",
       "      <td>0</td>\n",
       "      <td>0</td>\n",
       "      <td>0</td>\n",
       "      <td>0</td>\n",
       "      <td>0</td>\n",
       "      <td>0</td>\n",
       "      <td>0</td>\n",
       "      <td>...</td>\n",
       "      <td>26</td>\n",
       "      <td>8</td>\n",
       "      <td>26</td>\n",
       "      <td>52</td>\n",
       "      <td>0</td>\n",
       "      <td>0</td>\n",
       "      <td>0</td>\n",
       "      <td>0</td>\n",
       "      <td>0</td>\n",
       "      <td>0</td>\n",
       "    </tr>\n",
       "    <tr>\n",
       "      <th>1</th>\n",
       "      <td>neg</td>\n",
       "      <td>90</td>\n",
       "      <td>0</td>\n",
       "      <td>0</td>\n",
       "      <td>66</td>\n",
       "      <td>0</td>\n",
       "      <td>0</td>\n",
       "      <td>0</td>\n",
       "      <td>0</td>\n",
       "      <td>0</td>\n",
       "      <td>...</td>\n",
       "      <td>1268</td>\n",
       "      <td>526</td>\n",
       "      <td>554</td>\n",
       "      <td>300</td>\n",
       "      <td>118</td>\n",
       "      <td>260</td>\n",
       "      <td>0</td>\n",
       "      <td>0</td>\n",
       "      <td>0</td>\n",
       "      <td>0</td>\n",
       "    </tr>\n",
       "    <tr>\n",
       "      <th>2</th>\n",
       "      <td>neg</td>\n",
       "      <td>30</td>\n",
       "      <td>na</td>\n",
       "      <td>16</td>\n",
       "      <td>14</td>\n",
       "      <td>0</td>\n",
       "      <td>0</td>\n",
       "      <td>0</td>\n",
       "      <td>0</td>\n",
       "      <td>0</td>\n",
       "      <td>...</td>\n",
       "      <td>480</td>\n",
       "      <td>84</td>\n",
       "      <td>74</td>\n",
       "      <td>50</td>\n",
       "      <td>46</td>\n",
       "      <td>0</td>\n",
       "      <td>0</td>\n",
       "      <td>0</td>\n",
       "      <td>0</td>\n",
       "      <td>0</td>\n",
       "    </tr>\n",
       "    <tr>\n",
       "      <th>3</th>\n",
       "      <td>neg</td>\n",
       "      <td>444</td>\n",
       "      <td>na</td>\n",
       "      <td>14</td>\n",
       "      <td>12</td>\n",
       "      <td>0</td>\n",
       "      <td>0</td>\n",
       "      <td>0</td>\n",
       "      <td>0</td>\n",
       "      <td>0</td>\n",
       "      <td>...</td>\n",
       "      <td>1614</td>\n",
       "      <td>1144</td>\n",
       "      <td>3598</td>\n",
       "      <td>2460</td>\n",
       "      <td>1258</td>\n",
       "      <td>8524</td>\n",
       "      <td>110</td>\n",
       "      <td>0</td>\n",
       "      <td>0</td>\n",
       "      <td>0</td>\n",
       "    </tr>\n",
       "    <tr>\n",
       "      <th>4</th>\n",
       "      <td>neg</td>\n",
       "      <td>82</td>\n",
       "      <td>na</td>\n",
       "      <td>12</td>\n",
       "      <td>10</td>\n",
       "      <td>0</td>\n",
       "      <td>0</td>\n",
       "      <td>0</td>\n",
       "      <td>0</td>\n",
       "      <td>1464</td>\n",
       "      <td>...</td>\n",
       "      <td>1010</td>\n",
       "      <td>132</td>\n",
       "      <td>310</td>\n",
       "      <td>56</td>\n",
       "      <td>92</td>\n",
       "      <td>1292</td>\n",
       "      <td>0</td>\n",
       "      <td>0</td>\n",
       "      <td>0</td>\n",
       "      <td>0</td>\n",
       "    </tr>\n",
       "  </tbody>\n",
       "</table>\n",
       "<p>5 rows × 171 columns</p>\n",
       "</div>"
      ],
      "text/plain": [
       "  class  aa_000 ab_000 ac_000 ad_000 ae_000 af_000 ag_000 ag_001 ag_002  ...  \\\n",
       "0   neg       6      0      0      0      0      0      0      0      0  ...   \n",
       "1   neg      90      0      0     66      0      0      0      0      0  ...   \n",
       "2   neg      30     na     16     14      0      0      0      0      0  ...   \n",
       "3   neg     444     na     14     12      0      0      0      0      0  ...   \n",
       "4   neg      82     na     12     10      0      0      0      0   1464  ...   \n",
       "\n",
       "  ee_002 ee_003 ee_004 ee_005 ee_006 ee_007 ee_008 ee_009 ef_000 eg_000  \n",
       "0     26      8     26     52      0      0      0      0      0      0  \n",
       "1   1268    526    554    300    118    260      0      0      0      0  \n",
       "2    480     84     74     50     46      0      0      0      0      0  \n",
       "3   1614   1144   3598   2460   1258   8524    110      0      0      0  \n",
       "4   1010    132    310     56     92   1292      0      0      0      0  \n",
       "\n",
       "[5 rows x 171 columns]"
      ]
     },
     "execution_count": 3,
     "metadata": {},
     "output_type": "execute_result"
    }
   ],
   "source": [
    "data = pd.read_csv(r\"D:\\Data Science Material\\Deep Learning\\ANN\\aps_data.csv\")\n",
    "data.head()"
   ]
  },
  {
   "cell_type": "code",
   "execution_count": 4,
   "metadata": {},
   "outputs": [
    {
     "data": {
      "text/plain": [
       "(5000, 171)"
      ]
     },
     "execution_count": 4,
     "metadata": {},
     "output_type": "execute_result"
    }
   ],
   "source": [
    "data.shape"
   ]
  },
  {
   "cell_type": "code",
   "execution_count": 5,
   "metadata": {},
   "outputs": [
    {
     "data": {
      "text/plain": [
       "class     0\n",
       "aa_000    0\n",
       "ab_000    0\n",
       "ac_000    0\n",
       "ad_000    0\n",
       "         ..\n",
       "ee_007    0\n",
       "ee_008    0\n",
       "ee_009    0\n",
       "ef_000    0\n",
       "eg_000    0\n",
       "Length: 171, dtype: int64"
      ]
     },
     "execution_count": 5,
     "metadata": {},
     "output_type": "execute_result"
    }
   ],
   "source": [
    "data.isna().sum()"
   ]
  },
  {
   "cell_type": "code",
   "execution_count": 6,
   "metadata": {},
   "outputs": [],
   "source": [
    "data = data.replace(\"na\", np.nan)"
   ]
  },
  {
   "cell_type": "code",
   "execution_count": 7,
   "metadata": {},
   "outputs": [
    {
     "data": {
      "text/plain": [
       "class        0\n",
       "aa_000       0\n",
       "ab_000    3849\n",
       "ac_000     308\n",
       "ad_000    1236\n",
       "          ... \n",
       "ee_007      58\n",
       "ee_008      58\n",
       "ee_009      58\n",
       "ef_000     242\n",
       "eg_000     242\n",
       "Length: 171, dtype: int64"
      ]
     },
     "execution_count": 7,
     "metadata": {},
     "output_type": "execute_result"
    }
   ],
   "source": [
    "data.isna().sum()"
   ]
  },
  {
   "cell_type": "code",
   "execution_count": 8,
   "metadata": {},
   "outputs": [
    {
     "data": {
      "text/plain": [
       "Index(['class', 'aa_000', 'ab_000', 'ac_000', 'ad_000', 'ae_000', 'af_000',\n",
       "       'ag_000', 'ag_001', 'ag_002',\n",
       "       ...\n",
       "       'ee_002', 'ee_003', 'ee_004', 'ee_005', 'ee_006', 'ee_007', 'ee_008',\n",
       "       'ee_009', 'ef_000', 'eg_000'],\n",
       "      dtype='object', length=171)"
      ]
     },
     "execution_count": 8,
     "metadata": {},
     "output_type": "execute_result"
    }
   ],
   "source": [
    "data.columns"
   ]
  },
  {
   "cell_type": "code",
   "execution_count": 9,
   "metadata": {},
   "outputs": [],
   "source": [
    "null_data = pd.DataFrame(data.isna().sum().sort_values(ascending=False), columns=[\"Null_Count\"])"
   ]
  },
  {
   "cell_type": "code",
   "execution_count": 10,
   "metadata": {},
   "outputs": [
    {
     "data": {
      "text/html": [
       "<div>\n",
       "<style scoped>\n",
       "    .dataframe tbody tr th:only-of-type {\n",
       "        vertical-align: middle;\n",
       "    }\n",
       "\n",
       "    .dataframe tbody tr th {\n",
       "        vertical-align: top;\n",
       "    }\n",
       "\n",
       "    .dataframe thead th {\n",
       "        text-align: right;\n",
       "    }\n",
       "</style>\n",
       "<table border=\"1\" class=\"dataframe\">\n",
       "  <thead>\n",
       "    <tr style=\"text-align: right;\">\n",
       "      <th></th>\n",
       "      <th>Null_Count</th>\n",
       "    </tr>\n",
       "  </thead>\n",
       "  <tbody>\n",
       "    <tr>\n",
       "      <th>br_000</th>\n",
       "      <td>4105</td>\n",
       "    </tr>\n",
       "    <tr>\n",
       "      <th>bq_000</th>\n",
       "      <td>4043</td>\n",
       "    </tr>\n",
       "    <tr>\n",
       "      <th>bp_000</th>\n",
       "      <td>3960</td>\n",
       "    </tr>\n",
       "    <tr>\n",
       "      <th>ab_000</th>\n",
       "      <td>3849</td>\n",
       "    </tr>\n",
       "    <tr>\n",
       "      <th>cr_000</th>\n",
       "      <td>3849</td>\n",
       "    </tr>\n",
       "    <tr>\n",
       "      <th>...</th>\n",
       "      <td>...</td>\n",
       "    </tr>\n",
       "    <tr>\n",
       "      <th>cj_000</th>\n",
       "      <td>38</td>\n",
       "    </tr>\n",
       "    <tr>\n",
       "      <th>ci_000</th>\n",
       "      <td>38</td>\n",
       "    </tr>\n",
       "    <tr>\n",
       "      <th>bt_000</th>\n",
       "      <td>12</td>\n",
       "    </tr>\n",
       "    <tr>\n",
       "      <th>aa_000</th>\n",
       "      <td>0</td>\n",
       "    </tr>\n",
       "    <tr>\n",
       "      <th>class</th>\n",
       "      <td>0</td>\n",
       "    </tr>\n",
       "  </tbody>\n",
       "</table>\n",
       "<p>171 rows × 1 columns</p>\n",
       "</div>"
      ],
      "text/plain": [
       "        Null_Count\n",
       "br_000        4105\n",
       "bq_000        4043\n",
       "bp_000        3960\n",
       "ab_000        3849\n",
       "cr_000        3849\n",
       "...            ...\n",
       "cj_000          38\n",
       "ci_000          38\n",
       "bt_000          12\n",
       "aa_000           0\n",
       "class            0\n",
       "\n",
       "[171 rows x 1 columns]"
      ]
     },
     "execution_count": 10,
     "metadata": {},
     "output_type": "execute_result"
    }
   ],
   "source": [
    "null_data"
   ]
  },
  {
   "cell_type": "code",
   "execution_count": 11,
   "metadata": {},
   "outputs": [],
   "source": [
    "for feature in [feature for feature in data.columns if feature not in ['class']]:\n",
    "    data[feature] = data[feature].fillna(data[feature].median())"
   ]
  },
  {
   "cell_type": "code",
   "execution_count": 12,
   "metadata": {},
   "outputs": [
    {
     "data": {
      "text/plain": [
       "class     0\n",
       "aa_000    0\n",
       "ab_000    0\n",
       "ac_000    0\n",
       "ad_000    0\n",
       "         ..\n",
       "ee_007    0\n",
       "ee_008    0\n",
       "ee_009    0\n",
       "ef_000    0\n",
       "eg_000    0\n",
       "Length: 171, dtype: int64"
      ]
     },
     "execution_count": 12,
     "metadata": {},
     "output_type": "execute_result"
    }
   ],
   "source": [
    "data.isna().sum()"
   ]
  },
  {
   "cell_type": "code",
   "execution_count": 13,
   "metadata": {},
   "outputs": [
    {
     "data": {
      "text/html": [
       "<div>\n",
       "<style scoped>\n",
       "    .dataframe tbody tr th:only-of-type {\n",
       "        vertical-align: middle;\n",
       "    }\n",
       "\n",
       "    .dataframe tbody tr th {\n",
       "        vertical-align: top;\n",
       "    }\n",
       "\n",
       "    .dataframe thead th {\n",
       "        text-align: right;\n",
       "    }\n",
       "</style>\n",
       "<table border=\"1\" class=\"dataframe\">\n",
       "  <thead>\n",
       "    <tr style=\"text-align: right;\">\n",
       "      <th></th>\n",
       "      <th>class</th>\n",
       "      <th>aa_000</th>\n",
       "      <th>ab_000</th>\n",
       "      <th>ac_000</th>\n",
       "      <th>ad_000</th>\n",
       "      <th>ae_000</th>\n",
       "      <th>af_000</th>\n",
       "      <th>ag_000</th>\n",
       "      <th>ag_001</th>\n",
       "      <th>ag_002</th>\n",
       "      <th>...</th>\n",
       "      <th>ee_002</th>\n",
       "      <th>ee_003</th>\n",
       "      <th>ee_004</th>\n",
       "      <th>ee_005</th>\n",
       "      <th>ee_006</th>\n",
       "      <th>ee_007</th>\n",
       "      <th>ee_008</th>\n",
       "      <th>ee_009</th>\n",
       "      <th>ef_000</th>\n",
       "      <th>eg_000</th>\n",
       "    </tr>\n",
       "  </thead>\n",
       "  <tbody>\n",
       "    <tr>\n",
       "      <th>0</th>\n",
       "      <td>neg</td>\n",
       "      <td>6</td>\n",
       "      <td>0</td>\n",
       "      <td>0</td>\n",
       "      <td>0</td>\n",
       "      <td>0</td>\n",
       "      <td>0</td>\n",
       "      <td>0</td>\n",
       "      <td>0</td>\n",
       "      <td>0</td>\n",
       "      <td>...</td>\n",
       "      <td>26</td>\n",
       "      <td>8</td>\n",
       "      <td>26</td>\n",
       "      <td>52</td>\n",
       "      <td>0</td>\n",
       "      <td>0</td>\n",
       "      <td>0</td>\n",
       "      <td>0</td>\n",
       "      <td>0</td>\n",
       "      <td>0</td>\n",
       "    </tr>\n",
       "    <tr>\n",
       "      <th>1</th>\n",
       "      <td>neg</td>\n",
       "      <td>90</td>\n",
       "      <td>0</td>\n",
       "      <td>0</td>\n",
       "      <td>66</td>\n",
       "      <td>0</td>\n",
       "      <td>0</td>\n",
       "      <td>0</td>\n",
       "      <td>0</td>\n",
       "      <td>0</td>\n",
       "      <td>...</td>\n",
       "      <td>1268</td>\n",
       "      <td>526</td>\n",
       "      <td>554</td>\n",
       "      <td>300</td>\n",
       "      <td>118</td>\n",
       "      <td>260</td>\n",
       "      <td>0</td>\n",
       "      <td>0</td>\n",
       "      <td>0</td>\n",
       "      <td>0</td>\n",
       "    </tr>\n",
       "    <tr>\n",
       "      <th>2</th>\n",
       "      <td>neg</td>\n",
       "      <td>30</td>\n",
       "      <td>0.0</td>\n",
       "      <td>16</td>\n",
       "      <td>14</td>\n",
       "      <td>0</td>\n",
       "      <td>0</td>\n",
       "      <td>0</td>\n",
       "      <td>0</td>\n",
       "      <td>0</td>\n",
       "      <td>...</td>\n",
       "      <td>480</td>\n",
       "      <td>84</td>\n",
       "      <td>74</td>\n",
       "      <td>50</td>\n",
       "      <td>46</td>\n",
       "      <td>0</td>\n",
       "      <td>0</td>\n",
       "      <td>0</td>\n",
       "      <td>0</td>\n",
       "      <td>0</td>\n",
       "    </tr>\n",
       "    <tr>\n",
       "      <th>3</th>\n",
       "      <td>neg</td>\n",
       "      <td>444</td>\n",
       "      <td>0.0</td>\n",
       "      <td>14</td>\n",
       "      <td>12</td>\n",
       "      <td>0</td>\n",
       "      <td>0</td>\n",
       "      <td>0</td>\n",
       "      <td>0</td>\n",
       "      <td>0</td>\n",
       "      <td>...</td>\n",
       "      <td>1614</td>\n",
       "      <td>1144</td>\n",
       "      <td>3598</td>\n",
       "      <td>2460</td>\n",
       "      <td>1258</td>\n",
       "      <td>8524</td>\n",
       "      <td>110</td>\n",
       "      <td>0</td>\n",
       "      <td>0</td>\n",
       "      <td>0</td>\n",
       "    </tr>\n",
       "    <tr>\n",
       "      <th>4</th>\n",
       "      <td>neg</td>\n",
       "      <td>82</td>\n",
       "      <td>0.0</td>\n",
       "      <td>12</td>\n",
       "      <td>10</td>\n",
       "      <td>0</td>\n",
       "      <td>0</td>\n",
       "      <td>0</td>\n",
       "      <td>0</td>\n",
       "      <td>1464</td>\n",
       "      <td>...</td>\n",
       "      <td>1010</td>\n",
       "      <td>132</td>\n",
       "      <td>310</td>\n",
       "      <td>56</td>\n",
       "      <td>92</td>\n",
       "      <td>1292</td>\n",
       "      <td>0</td>\n",
       "      <td>0</td>\n",
       "      <td>0</td>\n",
       "      <td>0</td>\n",
       "    </tr>\n",
       "  </tbody>\n",
       "</table>\n",
       "<p>5 rows × 171 columns</p>\n",
       "</div>"
      ],
      "text/plain": [
       "  class  aa_000 ab_000 ac_000 ad_000 ae_000 af_000 ag_000 ag_001 ag_002  ...  \\\n",
       "0   neg       6      0      0      0      0      0      0      0      0  ...   \n",
       "1   neg      90      0      0     66      0      0      0      0      0  ...   \n",
       "2   neg      30    0.0     16     14      0      0      0      0      0  ...   \n",
       "3   neg     444    0.0     14     12      0      0      0      0      0  ...   \n",
       "4   neg      82    0.0     12     10      0      0      0      0   1464  ...   \n",
       "\n",
       "  ee_002 ee_003 ee_004 ee_005 ee_006 ee_007 ee_008 ee_009 ef_000 eg_000  \n",
       "0     26      8     26     52      0      0      0      0      0      0  \n",
       "1   1268    526    554    300    118    260      0      0      0      0  \n",
       "2    480     84     74     50     46      0      0      0      0      0  \n",
       "3   1614   1144   3598   2460   1258   8524    110      0      0      0  \n",
       "4   1010    132    310     56     92   1292      0      0      0      0  \n",
       "\n",
       "[5 rows x 171 columns]"
      ]
     },
     "execution_count": 13,
     "metadata": {},
     "output_type": "execute_result"
    }
   ],
   "source": [
    "data.head()"
   ]
  },
  {
   "cell_type": "code",
   "execution_count": 14,
   "metadata": {},
   "outputs": [
    {
     "data": {
      "text/html": [
       "<div>\n",
       "<style scoped>\n",
       "    .dataframe tbody tr th:only-of-type {\n",
       "        vertical-align: middle;\n",
       "    }\n",
       "\n",
       "    .dataframe tbody tr th {\n",
       "        vertical-align: top;\n",
       "    }\n",
       "\n",
       "    .dataframe thead th {\n",
       "        text-align: right;\n",
       "    }\n",
       "</style>\n",
       "<table border=\"1\" class=\"dataframe\">\n",
       "  <thead>\n",
       "    <tr style=\"text-align: right;\">\n",
       "      <th></th>\n",
       "      <th>aa_000</th>\n",
       "      <th>ab_000</th>\n",
       "      <th>ac_000</th>\n",
       "      <th>ad_000</th>\n",
       "      <th>ae_000</th>\n",
       "      <th>af_000</th>\n",
       "      <th>ag_000</th>\n",
       "      <th>ag_001</th>\n",
       "      <th>ag_002</th>\n",
       "      <th>ag_003</th>\n",
       "      <th>...</th>\n",
       "      <th>ee_002</th>\n",
       "      <th>ee_003</th>\n",
       "      <th>ee_004</th>\n",
       "      <th>ee_005</th>\n",
       "      <th>ee_006</th>\n",
       "      <th>ee_007</th>\n",
       "      <th>ee_008</th>\n",
       "      <th>ee_009</th>\n",
       "      <th>ef_000</th>\n",
       "      <th>eg_000</th>\n",
       "    </tr>\n",
       "  </thead>\n",
       "  <tbody>\n",
       "    <tr>\n",
       "      <th>0</th>\n",
       "      <td>6</td>\n",
       "      <td>0</td>\n",
       "      <td>0</td>\n",
       "      <td>0</td>\n",
       "      <td>0</td>\n",
       "      <td>0</td>\n",
       "      <td>0</td>\n",
       "      <td>0</td>\n",
       "      <td>0</td>\n",
       "      <td>0</td>\n",
       "      <td>...</td>\n",
       "      <td>26</td>\n",
       "      <td>8</td>\n",
       "      <td>26</td>\n",
       "      <td>52</td>\n",
       "      <td>0</td>\n",
       "      <td>0</td>\n",
       "      <td>0</td>\n",
       "      <td>0</td>\n",
       "      <td>0</td>\n",
       "      <td>0</td>\n",
       "    </tr>\n",
       "    <tr>\n",
       "      <th>1</th>\n",
       "      <td>90</td>\n",
       "      <td>0</td>\n",
       "      <td>0</td>\n",
       "      <td>66</td>\n",
       "      <td>0</td>\n",
       "      <td>0</td>\n",
       "      <td>0</td>\n",
       "      <td>0</td>\n",
       "      <td>0</td>\n",
       "      <td>0</td>\n",
       "      <td>...</td>\n",
       "      <td>1268</td>\n",
       "      <td>526</td>\n",
       "      <td>554</td>\n",
       "      <td>300</td>\n",
       "      <td>118</td>\n",
       "      <td>260</td>\n",
       "      <td>0</td>\n",
       "      <td>0</td>\n",
       "      <td>0</td>\n",
       "      <td>0</td>\n",
       "    </tr>\n",
       "    <tr>\n",
       "      <th>2</th>\n",
       "      <td>30</td>\n",
       "      <td>0.0</td>\n",
       "      <td>16</td>\n",
       "      <td>14</td>\n",
       "      <td>0</td>\n",
       "      <td>0</td>\n",
       "      <td>0</td>\n",
       "      <td>0</td>\n",
       "      <td>0</td>\n",
       "      <td>0</td>\n",
       "      <td>...</td>\n",
       "      <td>480</td>\n",
       "      <td>84</td>\n",
       "      <td>74</td>\n",
       "      <td>50</td>\n",
       "      <td>46</td>\n",
       "      <td>0</td>\n",
       "      <td>0</td>\n",
       "      <td>0</td>\n",
       "      <td>0</td>\n",
       "      <td>0</td>\n",
       "    </tr>\n",
       "    <tr>\n",
       "      <th>3</th>\n",
       "      <td>444</td>\n",
       "      <td>0.0</td>\n",
       "      <td>14</td>\n",
       "      <td>12</td>\n",
       "      <td>0</td>\n",
       "      <td>0</td>\n",
       "      <td>0</td>\n",
       "      <td>0</td>\n",
       "      <td>0</td>\n",
       "      <td>0</td>\n",
       "      <td>...</td>\n",
       "      <td>1614</td>\n",
       "      <td>1144</td>\n",
       "      <td>3598</td>\n",
       "      <td>2460</td>\n",
       "      <td>1258</td>\n",
       "      <td>8524</td>\n",
       "      <td>110</td>\n",
       "      <td>0</td>\n",
       "      <td>0</td>\n",
       "      <td>0</td>\n",
       "    </tr>\n",
       "    <tr>\n",
       "      <th>4</th>\n",
       "      <td>82</td>\n",
       "      <td>0.0</td>\n",
       "      <td>12</td>\n",
       "      <td>10</td>\n",
       "      <td>0</td>\n",
       "      <td>0</td>\n",
       "      <td>0</td>\n",
       "      <td>0</td>\n",
       "      <td>1464</td>\n",
       "      <td>4980</td>\n",
       "      <td>...</td>\n",
       "      <td>1010</td>\n",
       "      <td>132</td>\n",
       "      <td>310</td>\n",
       "      <td>56</td>\n",
       "      <td>92</td>\n",
       "      <td>1292</td>\n",
       "      <td>0</td>\n",
       "      <td>0</td>\n",
       "      <td>0</td>\n",
       "      <td>0</td>\n",
       "    </tr>\n",
       "    <tr>\n",
       "      <th>...</th>\n",
       "      <td>...</td>\n",
       "      <td>...</td>\n",
       "      <td>...</td>\n",
       "      <td>...</td>\n",
       "      <td>...</td>\n",
       "      <td>...</td>\n",
       "      <td>...</td>\n",
       "      <td>...</td>\n",
       "      <td>...</td>\n",
       "      <td>...</td>\n",
       "      <td>...</td>\n",
       "      <td>...</td>\n",
       "      <td>...</td>\n",
       "      <td>...</td>\n",
       "      <td>...</td>\n",
       "      <td>...</td>\n",
       "      <td>...</td>\n",
       "      <td>...</td>\n",
       "      <td>...</td>\n",
       "      <td>...</td>\n",
       "      <td>...</td>\n",
       "    </tr>\n",
       "    <tr>\n",
       "      <th>4995</th>\n",
       "      <td>31394</td>\n",
       "      <td>0.0</td>\n",
       "      <td>0</td>\n",
       "      <td>136.0</td>\n",
       "      <td>0</td>\n",
       "      <td>0</td>\n",
       "      <td>0</td>\n",
       "      <td>0</td>\n",
       "      <td>0</td>\n",
       "      <td>0</td>\n",
       "      <td>...</td>\n",
       "      <td>393008</td>\n",
       "      <td>207182</td>\n",
       "      <td>367634</td>\n",
       "      <td>267778</td>\n",
       "      <td>106778</td>\n",
       "      <td>48688</td>\n",
       "      <td>57146</td>\n",
       "      <td>638</td>\n",
       "      <td>0</td>\n",
       "      <td>0</td>\n",
       "    </tr>\n",
       "    <tr>\n",
       "      <th>4996</th>\n",
       "      <td>1598</td>\n",
       "      <td>0.0</td>\n",
       "      <td>0</td>\n",
       "      <td>136.0</td>\n",
       "      <td>0</td>\n",
       "      <td>0</td>\n",
       "      <td>0</td>\n",
       "      <td>0</td>\n",
       "      <td>0</td>\n",
       "      <td>0</td>\n",
       "      <td>...</td>\n",
       "      <td>5298</td>\n",
       "      <td>3164</td>\n",
       "      <td>9710</td>\n",
       "      <td>47042</td>\n",
       "      <td>2296</td>\n",
       "      <td>1098</td>\n",
       "      <td>3288</td>\n",
       "      <td>272</td>\n",
       "      <td>0</td>\n",
       "      <td>0</td>\n",
       "    </tr>\n",
       "    <tr>\n",
       "      <th>4997</th>\n",
       "      <td>42</td>\n",
       "      <td>2</td>\n",
       "      <td>2130706454</td>\n",
       "      <td>56</td>\n",
       "      <td>0</td>\n",
       "      <td>0</td>\n",
       "      <td>0</td>\n",
       "      <td>0</td>\n",
       "      <td>0</td>\n",
       "      <td>0</td>\n",
       "      <td>...</td>\n",
       "      <td>660</td>\n",
       "      <td>272</td>\n",
       "      <td>334</td>\n",
       "      <td>76</td>\n",
       "      <td>14</td>\n",
       "      <td>0</td>\n",
       "      <td>0</td>\n",
       "      <td>0</td>\n",
       "      <td>0</td>\n",
       "      <td>0</td>\n",
       "    </tr>\n",
       "    <tr>\n",
       "      <th>4998</th>\n",
       "      <td>32752</td>\n",
       "      <td>0.0</td>\n",
       "      <td>0</td>\n",
       "      <td>136.0</td>\n",
       "      <td>0</td>\n",
       "      <td>0</td>\n",
       "      <td>0</td>\n",
       "      <td>0</td>\n",
       "      <td>0</td>\n",
       "      <td>0</td>\n",
       "      <td>...</td>\n",
       "      <td>533772</td>\n",
       "      <td>37122</td>\n",
       "      <td>56252</td>\n",
       "      <td>23188</td>\n",
       "      <td>1138</td>\n",
       "      <td>134</td>\n",
       "      <td>22</td>\n",
       "      <td>0</td>\n",
       "      <td>0</td>\n",
       "      <td>0</td>\n",
       "    </tr>\n",
       "    <tr>\n",
       "      <th>4999</th>\n",
       "      <td>616</td>\n",
       "      <td>6</td>\n",
       "      <td>58</td>\n",
       "      <td>54</td>\n",
       "      <td>0</td>\n",
       "      <td>0</td>\n",
       "      <td>0</td>\n",
       "      <td>0</td>\n",
       "      <td>0</td>\n",
       "      <td>7416</td>\n",
       "      <td>...</td>\n",
       "      <td>4630</td>\n",
       "      <td>2268</td>\n",
       "      <td>4594</td>\n",
       "      <td>2760</td>\n",
       "      <td>2108</td>\n",
       "      <td>9308</td>\n",
       "      <td>64</td>\n",
       "      <td>0</td>\n",
       "      <td>0</td>\n",
       "      <td>0</td>\n",
       "    </tr>\n",
       "  </tbody>\n",
       "</table>\n",
       "<p>5000 rows × 170 columns</p>\n",
       "</div>"
      ],
      "text/plain": [
       "      aa_000 ab_000      ac_000 ad_000 ae_000 af_000 ag_000 ag_001 ag_002  \\\n",
       "0          6      0           0      0      0      0      0      0      0   \n",
       "1         90      0           0     66      0      0      0      0      0   \n",
       "2         30    0.0          16     14      0      0      0      0      0   \n",
       "3        444    0.0          14     12      0      0      0      0      0   \n",
       "4         82    0.0          12     10      0      0      0      0   1464   \n",
       "...      ...    ...         ...    ...    ...    ...    ...    ...    ...   \n",
       "4995   31394    0.0           0  136.0      0      0      0      0      0   \n",
       "4996    1598    0.0           0  136.0      0      0      0      0      0   \n",
       "4997      42      2  2130706454     56      0      0      0      0      0   \n",
       "4998   32752    0.0           0  136.0      0      0      0      0      0   \n",
       "4999     616      6          58     54      0      0      0      0      0   \n",
       "\n",
       "     ag_003  ...  ee_002  ee_003  ee_004  ee_005  ee_006 ee_007 ee_008 ee_009  \\\n",
       "0         0  ...      26       8      26      52       0      0      0      0   \n",
       "1         0  ...    1268     526     554     300     118    260      0      0   \n",
       "2         0  ...     480      84      74      50      46      0      0      0   \n",
       "3         0  ...    1614    1144    3598    2460    1258   8524    110      0   \n",
       "4      4980  ...    1010     132     310      56      92   1292      0      0   \n",
       "...     ...  ...     ...     ...     ...     ...     ...    ...    ...    ...   \n",
       "4995      0  ...  393008  207182  367634  267778  106778  48688  57146    638   \n",
       "4996      0  ...    5298    3164    9710   47042    2296   1098   3288    272   \n",
       "4997      0  ...     660     272     334      76      14      0      0      0   \n",
       "4998      0  ...  533772   37122   56252   23188    1138    134     22      0   \n",
       "4999   7416  ...    4630    2268    4594    2760    2108   9308     64      0   \n",
       "\n",
       "     ef_000 eg_000  \n",
       "0         0      0  \n",
       "1         0      0  \n",
       "2         0      0  \n",
       "3         0      0  \n",
       "4         0      0  \n",
       "...     ...    ...  \n",
       "4995      0      0  \n",
       "4996      0      0  \n",
       "4997      0      0  \n",
       "4998      0      0  \n",
       "4999      0      0  \n",
       "\n",
       "[5000 rows x 170 columns]"
      ]
     },
     "execution_count": 14,
     "metadata": {},
     "output_type": "execute_result"
    }
   ],
   "source": [
    "X = data.iloc[:,1:]\n",
    "X"
   ]
  },
  {
   "cell_type": "code",
   "execution_count": 15,
   "metadata": {},
   "outputs": [
    {
     "data": {
      "text/plain": [
       "0       neg\n",
       "1       neg\n",
       "2       neg\n",
       "3       neg\n",
       "4       neg\n",
       "       ... \n",
       "4995    neg\n",
       "4996    neg\n",
       "4997    neg\n",
       "4998    neg\n",
       "4999    neg\n",
       "Name: class, Length: 5000, dtype: object"
      ]
     },
     "execution_count": 15,
     "metadata": {},
     "output_type": "execute_result"
    }
   ],
   "source": [
    "y = data['class']\n",
    "y"
   ]
  },
  {
   "cell_type": "code",
   "execution_count": 16,
   "metadata": {},
   "outputs": [
    {
     "name": "stdout",
     "output_type": "stream",
     "text": [
      "<class 'pandas.core.frame.DataFrame'>\n",
      "RangeIndex: 5000 entries, 0 to 4999\n",
      "Data columns (total 170 columns):\n",
      " #    Column  Non-Null Count  Dtype \n",
      "---   ------  --------------  ----- \n",
      " 0    aa_000  5000 non-null   int64 \n",
      " 1    ab_000  5000 non-null   object\n",
      " 2    ac_000  5000 non-null   object\n",
      " 3    ad_000  5000 non-null   object\n",
      " 4    ae_000  5000 non-null   object\n",
      " 5    af_000  5000 non-null   object\n",
      " 6    ag_000  5000 non-null   object\n",
      " 7    ag_001  5000 non-null   object\n",
      " 8    ag_002  5000 non-null   object\n",
      " 9    ag_003  5000 non-null   object\n",
      " 10   ag_004  5000 non-null   object\n",
      " 11   ag_005  5000 non-null   object\n",
      " 12   ag_006  5000 non-null   object\n",
      " 13   ag_007  5000 non-null   object\n",
      " 14   ag_008  5000 non-null   object\n",
      " 15   ag_009  5000 non-null   object\n",
      " 16   ah_000  5000 non-null   object\n",
      " 17   ai_000  5000 non-null   object\n",
      " 18   aj_000  5000 non-null   object\n",
      " 19   ak_000  5000 non-null   object\n",
      " 20   al_000  5000 non-null   object\n",
      " 21   am_0    5000 non-null   object\n",
      " 22   an_000  5000 non-null   object\n",
      " 23   ao_000  5000 non-null   object\n",
      " 24   ap_000  5000 non-null   object\n",
      " 25   aq_000  5000 non-null   object\n",
      " 26   ar_000  5000 non-null   object\n",
      " 27   as_000  5000 non-null   object\n",
      " 28   at_000  5000 non-null   object\n",
      " 29   au_000  5000 non-null   object\n",
      " 30   av_000  5000 non-null   object\n",
      " 31   ax_000  5000 non-null   object\n",
      " 32   ay_000  5000 non-null   object\n",
      " 33   ay_001  5000 non-null   object\n",
      " 34   ay_002  5000 non-null   object\n",
      " 35   ay_003  5000 non-null   object\n",
      " 36   ay_004  5000 non-null   object\n",
      " 37   ay_005  5000 non-null   object\n",
      " 38   ay_006  5000 non-null   object\n",
      " 39   ay_007  5000 non-null   object\n",
      " 40   ay_008  5000 non-null   object\n",
      " 41   ay_009  5000 non-null   object\n",
      " 42   az_000  5000 non-null   object\n",
      " 43   az_001  5000 non-null   object\n",
      " 44   az_002  5000 non-null   object\n",
      " 45   az_003  5000 non-null   object\n",
      " 46   az_004  5000 non-null   object\n",
      " 47   az_005  5000 non-null   object\n",
      " 48   az_006  5000 non-null   object\n",
      " 49   az_007  5000 non-null   object\n",
      " 50   az_008  5000 non-null   object\n",
      " 51   az_009  5000 non-null   object\n",
      " 52   ba_000  5000 non-null   object\n",
      " 53   ba_001  5000 non-null   object\n",
      " 54   ba_002  5000 non-null   object\n",
      " 55   ba_003  5000 non-null   object\n",
      " 56   ba_004  5000 non-null   object\n",
      " 57   ba_005  5000 non-null   object\n",
      " 58   ba_006  5000 non-null   object\n",
      " 59   ba_007  5000 non-null   object\n",
      " 60   ba_008  5000 non-null   object\n",
      " 61   ba_009  5000 non-null   object\n",
      " 62   bb_000  5000 non-null   object\n",
      " 63   bc_000  5000 non-null   object\n",
      " 64   bd_000  5000 non-null   object\n",
      " 65   be_000  5000 non-null   object\n",
      " 66   bf_000  5000 non-null   object\n",
      " 67   bg_000  5000 non-null   object\n",
      " 68   bh_000  5000 non-null   object\n",
      " 69   bi_000  5000 non-null   object\n",
      " 70   bj_000  5000 non-null   object\n",
      " 71   bk_000  5000 non-null   object\n",
      " 72   bl_000  5000 non-null   object\n",
      " 73   bm_000  5000 non-null   object\n",
      " 74   bn_000  5000 non-null   object\n",
      " 75   bo_000  5000 non-null   object\n",
      " 76   bp_000  5000 non-null   object\n",
      " 77   bq_000  5000 non-null   object\n",
      " 78   br_000  5000 non-null   object\n",
      " 79   bs_000  5000 non-null   object\n",
      " 80   bt_000  5000 non-null   object\n",
      " 81   bu_000  5000 non-null   object\n",
      " 82   bv_000  5000 non-null   object\n",
      " 83   bx_000  5000 non-null   object\n",
      " 84   by_000  5000 non-null   object\n",
      " 85   bz_000  5000 non-null   object\n",
      " 86   ca_000  5000 non-null   object\n",
      " 87   cb_000  5000 non-null   object\n",
      " 88   cc_000  5000 non-null   object\n",
      " 89   cd_000  5000 non-null   object\n",
      " 90   ce_000  5000 non-null   object\n",
      " 91   cf_000  5000 non-null   object\n",
      " 92   cg_000  5000 non-null   object\n",
      " 93   ch_000  5000 non-null   object\n",
      " 94   ci_000  5000 non-null   object\n",
      " 95   cj_000  5000 non-null   object\n",
      " 96   ck_000  5000 non-null   object\n",
      " 97   cl_000  5000 non-null   object\n",
      " 98   cm_000  5000 non-null   object\n",
      " 99   cn_000  5000 non-null   object\n",
      " 100  cn_001  5000 non-null   object\n",
      " 101  cn_002  5000 non-null   object\n",
      " 102  cn_003  5000 non-null   object\n",
      " 103  cn_004  5000 non-null   object\n",
      " 104  cn_005  5000 non-null   object\n",
      " 105  cn_006  5000 non-null   object\n",
      " 106  cn_007  5000 non-null   object\n",
      " 107  cn_008  5000 non-null   object\n",
      " 108  cn_009  5000 non-null   object\n",
      " 109  co_000  5000 non-null   object\n",
      " 110  cp_000  5000 non-null   object\n",
      " 111  cq_000  5000 non-null   object\n",
      " 112  cr_000  5000 non-null   object\n",
      " 113  cs_000  5000 non-null   object\n",
      " 114  cs_001  5000 non-null   object\n",
      " 115  cs_002  5000 non-null   object\n",
      " 116  cs_003  5000 non-null   object\n",
      " 117  cs_004  5000 non-null   object\n",
      " 118  cs_005  5000 non-null   object\n",
      " 119  cs_006  5000 non-null   object\n",
      " 120  cs_007  5000 non-null   object\n",
      " 121  cs_008  5000 non-null   object\n",
      " 122  cs_009  5000 non-null   object\n",
      " 123  ct_000  5000 non-null   object\n",
      " 124  cu_000  5000 non-null   object\n",
      " 125  cv_000  5000 non-null   object\n",
      " 126  cx_000  5000 non-null   object\n",
      " 127  cy_000  5000 non-null   object\n",
      " 128  cz_000  5000 non-null   object\n",
      " 129  da_000  5000 non-null   object\n",
      " 130  db_000  5000 non-null   object\n",
      " 131  dc_000  5000 non-null   object\n",
      " 132  dd_000  5000 non-null   object\n",
      " 133  de_000  5000 non-null   object\n",
      " 134  df_000  5000 non-null   object\n",
      " 135  dg_000  5000 non-null   object\n",
      " 136  dh_000  5000 non-null   object\n",
      " 137  di_000  5000 non-null   object\n",
      " 138  dj_000  5000 non-null   object\n",
      " 139  dk_000  5000 non-null   object\n",
      " 140  dl_000  5000 non-null   object\n",
      " 141  dm_000  5000 non-null   object\n",
      " 142  dn_000  5000 non-null   object\n",
      " 143  do_000  5000 non-null   object\n",
      " 144  dp_000  5000 non-null   object\n",
      " 145  dq_000  5000 non-null   object\n",
      " 146  dr_000  5000 non-null   object\n",
      " 147  ds_000  5000 non-null   object\n",
      " 148  dt_000  5000 non-null   object\n",
      " 149  du_000  5000 non-null   object\n",
      " 150  dv_000  5000 non-null   object\n",
      " 151  dx_000  5000 non-null   object\n",
      " 152  dy_000  5000 non-null   object\n",
      " 153  dz_000  5000 non-null   object\n",
      " 154  ea_000  5000 non-null   object\n",
      " 155  eb_000  5000 non-null   object\n",
      " 156  ec_00   5000 non-null   object\n",
      " 157  ed_000  5000 non-null   object\n",
      " 158  ee_000  5000 non-null   object\n",
      " 159  ee_001  5000 non-null   object\n",
      " 160  ee_002  5000 non-null   object\n",
      " 161  ee_003  5000 non-null   object\n",
      " 162  ee_004  5000 non-null   object\n",
      " 163  ee_005  5000 non-null   object\n",
      " 164  ee_006  5000 non-null   object\n",
      " 165  ee_007  5000 non-null   object\n",
      " 166  ee_008  5000 non-null   object\n",
      " 167  ee_009  5000 non-null   object\n",
      " 168  ef_000  5000 non-null   object\n",
      " 169  eg_000  5000 non-null   object\n",
      "dtypes: int64(1), object(169)\n",
      "memory usage: 6.5+ MB\n"
     ]
    }
   ],
   "source": [
    "X.info(verbose=True, show_counts=True)"
   ]
  },
  {
   "cell_type": "code",
   "execution_count": 17,
   "metadata": {},
   "outputs": [
    {
     "data": {
      "text/plain": [
       "array(['neg', 'pos'], dtype=object)"
      ]
     },
     "execution_count": 17,
     "metadata": {},
     "output_type": "execute_result"
    }
   ],
   "source": [
    "y.unique()"
   ]
  },
  {
   "cell_type": "code",
   "execution_count": 18,
   "metadata": {},
   "outputs": [
    {
     "data": {
      "text/html": [
       "<div>\n",
       "<style scoped>\n",
       "    .dataframe tbody tr th:only-of-type {\n",
       "        vertical-align: middle;\n",
       "    }\n",
       "\n",
       "    .dataframe tbody tr th {\n",
       "        vertical-align: top;\n",
       "    }\n",
       "\n",
       "    .dataframe thead th {\n",
       "        text-align: right;\n",
       "    }\n",
       "</style>\n",
       "<table border=\"1\" class=\"dataframe\">\n",
       "  <thead>\n",
       "    <tr style=\"text-align: right;\">\n",
       "      <th></th>\n",
       "      <th>pos</th>\n",
       "    </tr>\n",
       "  </thead>\n",
       "  <tbody>\n",
       "    <tr>\n",
       "      <th>0</th>\n",
       "      <td>0</td>\n",
       "    </tr>\n",
       "    <tr>\n",
       "      <th>1</th>\n",
       "      <td>0</td>\n",
       "    </tr>\n",
       "    <tr>\n",
       "      <th>2</th>\n",
       "      <td>0</td>\n",
       "    </tr>\n",
       "    <tr>\n",
       "      <th>3</th>\n",
       "      <td>0</td>\n",
       "    </tr>\n",
       "    <tr>\n",
       "      <th>4</th>\n",
       "      <td>0</td>\n",
       "    </tr>\n",
       "    <tr>\n",
       "      <th>...</th>\n",
       "      <td>...</td>\n",
       "    </tr>\n",
       "    <tr>\n",
       "      <th>4995</th>\n",
       "      <td>0</td>\n",
       "    </tr>\n",
       "    <tr>\n",
       "      <th>4996</th>\n",
       "      <td>0</td>\n",
       "    </tr>\n",
       "    <tr>\n",
       "      <th>4997</th>\n",
       "      <td>0</td>\n",
       "    </tr>\n",
       "    <tr>\n",
       "      <th>4998</th>\n",
       "      <td>0</td>\n",
       "    </tr>\n",
       "    <tr>\n",
       "      <th>4999</th>\n",
       "      <td>0</td>\n",
       "    </tr>\n",
       "  </tbody>\n",
       "</table>\n",
       "<p>5000 rows × 1 columns</p>\n",
       "</div>"
      ],
      "text/plain": [
       "      pos\n",
       "0       0\n",
       "1       0\n",
       "2       0\n",
       "3       0\n",
       "4       0\n",
       "...   ...\n",
       "4995    0\n",
       "4996    0\n",
       "4997    0\n",
       "4998    0\n",
       "4999    0\n",
       "\n",
       "[5000 rows x 1 columns]"
      ]
     },
     "execution_count": 18,
     "metadata": {},
     "output_type": "execute_result"
    }
   ],
   "source": [
    "y = pd.get_dummies(y, drop_first=True, dtype=int)\n",
    "y"
   ]
  },
  {
   "cell_type": "code",
   "execution_count": 19,
   "metadata": {},
   "outputs": [
    {
     "data": {
      "text/plain": [
       "((4000, 170), (1000, 170), (4000, 1), (1000, 1))"
      ]
     },
     "execution_count": 19,
     "metadata": {},
     "output_type": "execute_result"
    }
   ],
   "source": [
    "from sklearn.model_selection import train_test_split\n",
    "\n",
    "X_train, X_test, y_train, y_test = train_test_split(X, y, test_size=0.2, random_state=0)\n",
    "X_train.shape, X_test.shape, y_train.shape, y_test.shape"
   ]
  },
  {
   "cell_type": "code",
   "execution_count": 20,
   "metadata": {},
   "outputs": [],
   "source": [
    "from sklearn.preprocessing import StandardScaler\n",
    "\n",
    "scaler = StandardScaler()\n",
    "X_train = scaler.fit_transform(X_train)\n",
    "X_test = scaler.transform(X_test)"
   ]
  },
  {
   "cell_type": "code",
   "execution_count": 21,
   "metadata": {},
   "outputs": [],
   "source": [
    "import tensorflow.keras\n",
    "from tensorflow.keras.models import Sequential\n",
    "from tensorflow.keras.layers import Dense\n",
    "from tensorflow.keras.layers import Dropout"
   ]
  },
  {
   "cell_type": "code",
   "execution_count": 22,
   "metadata": {},
   "outputs": [],
   "source": [
    "classifier = Sequential()"
   ]
  },
  {
   "cell_type": "code",
   "execution_count": 23,
   "metadata": {},
   "outputs": [],
   "source": [
    "classifier.add(Dense(units = 10, kernel_initializer = 'he_uniform', activation = 'relu', input_dim = 170))\n",
    "# input_dim means the input layer neurons as we have 170 features so we have taken 170 neurons in input layer\n",
    "# unit = 10 in Dense means the first hidden layer with contain 10 neurons\n",
    "\n",
    "classifier.add(Dense(units = 10, kernel_initializer = 'he_uniform', activation = 'relu'))\n",
    "# unit = 10 in second dense means again 10 neurons in hidden layer 2.\n",
    "\n",
    "classifier.add(Dense(units = 1, kernel_initializer = 'glorot_uniform', activation = 'sigmoid'))\n",
    "# In output layer unit = 1 means only one neuron"
   ]
  },
  {
   "cell_type": "code",
   "execution_count": 24,
   "metadata": {},
   "outputs": [],
   "source": [
    "classifier.compile(optimizer='adam', loss='binary_crossentropy', metrics=['accuracy'])"
   ]
  },
  {
   "cell_type": "code",
   "execution_count": 25,
   "metadata": {},
   "outputs": [
    {
     "name": "stdout",
     "output_type": "stream",
     "text": [
      "Model: \"sequential\"\n",
      "_________________________________________________________________\n",
      " Layer (type)                Output Shape              Param #   \n",
      "=================================================================\n",
      " dense (Dense)               (None, 10)                1710      \n",
      "                                                                 \n",
      " dense_1 (Dense)             (None, 10)                110       \n",
      "                                                                 \n",
      " dense_2 (Dense)             (None, 1)                 11        \n",
      "                                                                 \n",
      "=================================================================\n",
      "Total params: 1,831\n",
      "Trainable params: 1,831\n",
      "Non-trainable params: 0\n",
      "_________________________________________________________________\n"
     ]
    }
   ],
   "source": [
    "classifier.summary()"
   ]
  },
  {
   "cell_type": "code",
   "execution_count": 26,
   "metadata": {},
   "outputs": [
    {
     "name": "stdout",
     "output_type": "stream",
     "text": [
      "Epoch 1/20\n",
      "300/300 [==============================] - 4s 7ms/step - loss: 0.2287 - accuracy: 0.9430 - val_loss: 0.0881 - val_accuracy: 0.9810\n",
      "Epoch 2/20\n",
      "300/300 [==============================] - 1s 3ms/step - loss: 0.0654 - accuracy: 0.9797 - val_loss: 0.0608 - val_accuracy: 0.9870\n",
      "Epoch 3/20\n",
      "300/300 [==============================] - 1s 3ms/step - loss: 0.0439 - accuracy: 0.9820 - val_loss: 0.0551 - val_accuracy: 0.9870\n",
      "Epoch 4/20\n",
      "300/300 [==============================] - 1s 3ms/step - loss: 0.0345 - accuracy: 0.9857 - val_loss: 0.0546 - val_accuracy: 0.9860\n",
      "Epoch 5/20\n",
      "300/300 [==============================] - 1s 3ms/step - loss: 0.0284 - accuracy: 0.9880 - val_loss: 0.0582 - val_accuracy: 0.9880\n",
      "Epoch 6/20\n",
      "300/300 [==============================] - 1s 3ms/step - loss: 0.0247 - accuracy: 0.9890 - val_loss: 0.0495 - val_accuracy: 0.9880\n",
      "Epoch 7/20\n",
      "300/300 [==============================] - 1s 3ms/step - loss: 0.0201 - accuracy: 0.9920 - val_loss: 0.0621 - val_accuracy: 0.9870\n",
      "Epoch 8/20\n",
      "300/300 [==============================] - 1s 3ms/step - loss: 0.0150 - accuracy: 0.9937 - val_loss: 0.0584 - val_accuracy: 0.9870\n",
      "Epoch 9/20\n",
      "300/300 [==============================] - 1s 3ms/step - loss: 0.0135 - accuracy: 0.9950 - val_loss: 0.0597 - val_accuracy: 0.9890\n",
      "Epoch 10/20\n",
      "300/300 [==============================] - 1s 3ms/step - loss: 0.0119 - accuracy: 0.9950 - val_loss: 0.0649 - val_accuracy: 0.9900\n",
      "Epoch 11/20\n",
      "300/300 [==============================] - 1s 3ms/step - loss: 0.0109 - accuracy: 0.9953 - val_loss: 0.0764 - val_accuracy: 0.9900\n",
      "Epoch 12/20\n",
      "300/300 [==============================] - 1s 3ms/step - loss: 0.0109 - accuracy: 0.9950 - val_loss: 0.0698 - val_accuracy: 0.9900\n",
      "Epoch 13/20\n",
      "300/300 [==============================] - 1s 3ms/step - loss: 0.0114 - accuracy: 0.9947 - val_loss: 0.0688 - val_accuracy: 0.9910\n",
      "Epoch 14/20\n",
      "300/300 [==============================] - 1s 3ms/step - loss: 0.0073 - accuracy: 0.9967 - val_loss: 0.0801 - val_accuracy: 0.9870\n",
      "Epoch 15/20\n",
      "300/300 [==============================] - 1s 3ms/step - loss: 0.0075 - accuracy: 0.9963 - val_loss: 0.0948 - val_accuracy: 0.9890\n",
      "Epoch 16/20\n",
      "300/300 [==============================] - 1s 3ms/step - loss: 0.0068 - accuracy: 0.9973 - val_loss: 0.0894 - val_accuracy: 0.9880\n",
      "Epoch 17/20\n",
      "300/300 [==============================] - 1s 3ms/step - loss: 0.0064 - accuracy: 0.9970 - val_loss: 0.0898 - val_accuracy: 0.9910\n",
      "Epoch 18/20\n",
      "300/300 [==============================] - 1s 3ms/step - loss: 0.0080 - accuracy: 0.9960 - val_loss: 0.0766 - val_accuracy: 0.9910\n",
      "Epoch 19/20\n",
      "300/300 [==============================] - 1s 3ms/step - loss: 0.0063 - accuracy: 0.9970 - val_loss: 0.0984 - val_accuracy: 0.9850\n",
      "Epoch 20/20\n",
      "300/300 [==============================] - 1s 3ms/step - loss: 0.0043 - accuracy: 0.9983 - val_loss: 0.1030 - val_accuracy: 0.9850\n"
     ]
    }
   ],
   "source": [
    "model = classifier.fit(X_train, y_train, batch_size=10, epochs=20, validation_split=0.25)"
   ]
  },
  {
   "cell_type": "code",
   "execution_count": 27,
   "metadata": {},
   "outputs": [
    {
     "data": {
      "text/plain": [
       "dict_keys(['loss', 'accuracy', 'val_loss', 'val_accuracy'])"
      ]
     },
     "execution_count": 27,
     "metadata": {},
     "output_type": "execute_result"
    }
   ],
   "source": [
    "model.history.keys()"
   ]
  },
  {
   "cell_type": "code",
   "execution_count": 28,
   "metadata": {},
   "outputs": [
    {
     "data": {
      "text/plain": [
       "[0.9430000185966492,\n",
       " 0.9796666502952576,\n",
       " 0.9819999933242798,\n",
       " 0.9856666922569275,\n",
       " 0.9879999756813049,\n",
       " 0.9890000224113464,\n",
       " 0.9919999837875366,\n",
       " 0.9936666488647461,\n",
       " 0.9950000047683716,\n",
       " 0.9950000047683716,\n",
       " 0.9953333139419556,\n",
       " 0.9950000047683716,\n",
       " 0.9946666955947876,\n",
       " 0.996666669845581,\n",
       " 0.9963333606719971,\n",
       " 0.9973333477973938,\n",
       " 0.996999979019165,\n",
       " 0.9959999918937683,\n",
       " 0.996999979019165,\n",
       " 0.9983333349227905]"
      ]
     },
     "execution_count": 28,
     "metadata": {},
     "output_type": "execute_result"
    }
   ],
   "source": [
    "model.history['accuracy']"
   ]
  },
  {
   "cell_type": "code",
   "execution_count": 29,
   "metadata": {},
   "outputs": [
    {
     "data": {
      "text/plain": [
       "<matplotlib.legend.Legend at 0x26198146980>"
      ]
     },
     "execution_count": 29,
     "metadata": {},
     "output_type": "execute_result"
    },
    {
     "data": {
      "image/png": "[encoded data removed]",
      "text/plain": [
       "<Figure size 640x480 with 1 Axes>"
      ]
     },
     "metadata": {},
     "output_type": "display_data"
    }
   ],
   "source": [
    "plt.plot(model.history['accuracy'], label = \"training_accuracy\")\n",
    "plt.plot(model.history['val_accuracy'], label = \"validation_accuracy\")\n",
    "\n",
    "plt.legend()"
   ]
  },
  {
   "cell_type": "code",
   "execution_count": 30,
   "metadata": {},
   "outputs": [
    {
     "data": {
      "text/plain": [
       "<matplotlib.legend.Legend at 0x2619c163eb0>"
      ]
     },
     "execution_count": 30,
     "metadata": {},
     "output_type": "execute_result"
    },
    {
     "data": {
      "image/png": "[encoded data removed]",
      "text/plain": [
       "<Figure size 640x480 with 1 Axes>"
      ]
     },
     "metadata": {},
     "output_type": "display_data"
    }
   ],
   "source": [
    "plt.plot(model.history['loss'], label = \"training_loss\")\n",
    "plt.plot(model.history['val_loss'], label = \"validation_loss\")\n",
    "\n",
    "plt.legend()"
   ]
  },
  {
   "cell_type": "code",
   "execution_count": 31,
   "metadata": {},
   "outputs": [
    {
     "name": "stdout",
     "output_type": "stream",
     "text": [
      "32/32 [==============================] - 0s 2ms/step\n"
     ]
    }
   ],
   "source": [
    "y_pred = classifier.predict(X_test)"
   ]
  },
  {
   "cell_type": "code",
   "execution_count": 32,
   "metadata": {},
   "outputs": [],
   "source": [
    "y_pred = y_pred > 0.5"
   ]
  },
  {
   "cell_type": "code",
   "execution_count": 33,
   "metadata": {},
   "outputs": [
    {
     "data": {
      "text/plain": [
       "(1000, 1)"
      ]
     },
     "execution_count": 33,
     "metadata": {},
     "output_type": "execute_result"
    }
   ],
   "source": [
    "y_pred.shape"
   ]
  },
  {
   "cell_type": "code",
   "execution_count": 34,
   "metadata": {},
   "outputs": [
    {
     "name": "stdout",
     "output_type": "stream",
     "text": [
      "[[977   9]\n",
      " [  3  11]]\n"
     ]
    }
   ],
   "source": [
    "from sklearn.metrics import confusion_matrix\n",
    "print(confusion_matrix(y_test, y_pred))"
   ]
  },
  {
   "cell_type": "markdown",
   "metadata": {},
   "source": [
    "## Hyperparameter tuning ANN using keras tuner"
   ]
  },
  {
   "cell_type": "code",
   "execution_count": 35,
   "metadata": {},
   "outputs": [],
   "source": [
    "from kerastuner.tuners import RandomSearch"
   ]
  },
  {
   "cell_type": "code",
   "execution_count": 36,
   "metadata": {},
   "outputs": [],
   "source": [
    "def build_model(hyperparamter):\n",
    "    model = Sequential()\n",
    "    model.add(Dense(units = 32, kernel_initializer = 'he_uniform', activation = 'relu', input_dim = 170))\n",
    "    model.add(Dense(units = 32, kernel_initializer = 'he_uniform', activation = 'relu'))\n",
    "    model.add(Dense(units = 1, activation = 'sigmoid'))\n",
    "\n",
    "    optimizers = hyperparamter.Choice(\"optimizer\", values = ['adam', 'sgd', 'rmsprop', 'adadelta'])\n",
    "\n",
    "    model.compile(optimizer = optimizers, loss = 'binary_crossentropy', metrics = ['accuracy'])\n",
    "\n",
    "    return model"
   ]
  },
  {
   "cell_type": "code",
   "execution_count": 37,
   "metadata": {},
   "outputs": [
    {
     "name": "stdout",
     "output_type": "stream",
     "text": [
      "Trial 4 Complete [00h 00m 04s]\n",
      "val_accuracy: 0.6909999847412109\n",
      "\n",
      "Best val_accuracy So Far: 0.9919999837875366\n",
      "Total elapsed time: 00h 00m 23s\n"
     ]
    }
   ],
   "source": [
    "tuner = RandomSearch(build_model, objective='val_accuracy', max_trials=5, directory = \"ANN\", project_name = \"ANN_practicals\")\n",
    "tuner.search(X_train, y_train, validation_data = (X_test, y_test), epochs= 5)"
   ]
  },
  {
   "cell_type": "code",
   "execution_count": 38,
   "metadata": {},
   "outputs": [
    {
     "data": {
      "text/plain": [
       "{'optimizer': 'rmsprop'}"
      ]
     },
     "execution_count": 38,
     "metadata": {},
     "output_type": "execute_result"
    }
   ],
   "source": [
    "tuner.get_best_hyperparameters()[0].values"
   ]
  },
  {
   "cell_type": "code",
   "execution_count": 39,
   "metadata": {},
   "outputs": [
    {
     "name": "stdout",
     "output_type": "stream",
     "text": [
      "Model: \"sequential\"\n",
      "_________________________________________________________________\n",
      " Layer (type)                Output Shape              Param #   \n",
      "=================================================================\n",
      " dense (Dense)               (None, 32)                5472      \n",
      "                                                                 \n",
      " dense_1 (Dense)             (None, 32)                1056      \n",
      "                                                                 \n",
      " dense_2 (Dense)             (None, 1)                 33        \n",
      "                                                                 \n",
      "=================================================================\n",
      "Total params: 6,561\n",
      "Trainable params: 6,561\n",
      "Non-trainable params: 0\n",
      "_________________________________________________________________\n",
      "WARNING:tensorflow:Detecting that an object or model or tf.train.Checkpoint is being deleted with unrestored values. See the following logs for the specific values in question. To silence these warnings, use `status.expect_partial()`. See https://www.tensorflow.org/api_docs/python/tf/train/Checkpoint#restorefor details about the status object returned by the restore function.\n",
      "WARNING:tensorflow:Value in checkpoint could not be found in the restored object: (root).optimizer.iter\n",
      "WARNING:tensorflow:Value in checkpoint could not be found in the restored object: (root).optimizer.decay\n",
      "WARNING:tensorflow:Value in checkpoint could not be found in the restored object: (root).optimizer.learning_rate\n",
      "WARNING:tensorflow:Value in checkpoint could not be found in the restored object: (root).optimizer.momentum\n",
      "WARNING:tensorflow:Value in checkpoint could not be found in the restored object: (root).optimizer.rho\n"
     ]
    }
   ],
   "source": [
    "tuner.get_best_models(num_models=1)[0].summary()"
   ]
  },
  {
   "cell_type": "markdown",
   "metadata": {},
   "source": [
    "## Hyperparameter for every parameter like neurons, optimizers, learning rate"
   ]
  },
  {
   "cell_type": "code",
   "execution_count": 40,
   "metadata": {},
   "outputs": [],
   "source": [
    "from tensorflow.keras import optimizers"
   ]
  },
  {
   "cell_type": "code",
   "execution_count": 41,
   "metadata": {},
   "outputs": [],
   "source": [
    "def build_model(hyperparameter):\n",
    "    model = Sequential()\n",
    "    for i in range(hyperparameter.Int(\"num_layers\", 2, 20)):\n",
    "        model.add(Dense(units=hyperparameter.Int('units_' + str(i), min_value=32, max_value=512, step=32), activation=\"relu\"))\n",
    "    model.add(Dense(units=1, activation=\"sigmoid\"))\n",
    "\n",
    "    model.compile(optimizer=optimizers.Adam(learning_rate=hyperparameter.Choice('learning_rate', [1e-2, 1e-3, 1e-4])),\n",
    "                  loss=\"binary_crossentropy\",\n",
    "                  metrics=['accuracy'])\n",
    "    \n",
    "    return model"
   ]
  },
  {
   "cell_type": "code",
   "execution_count": 43,
   "metadata": {},
   "outputs": [
    {
     "name": "stdout",
     "output_type": "stream",
     "text": [
      "Trial 10 Complete [00h 00m 09s]\n",
      "val_accuracy: 0.9929999709129333\n",
      "\n",
      "Best val_accuracy So Far: 0.9929999709129333\n",
      "Total elapsed time: 00h 01m 59s\n"
     ]
    }
   ],
   "source": [
    "tuner_second = RandomSearch(build_model, objective = 'val_accuracy', directory = \"ANN\", project_name = \"hyperparamter\")\n",
    "tuner_second.search(X_train, y_train, validation_data = (X_test, y_test), epochs= 5)"
   ]
  },
  {
   "cell_type": "code",
   "execution_count": 44,
   "metadata": {},
   "outputs": [
    {
     "data": {
      "text/plain": [
       "{'num_layers': 11,\n",
       " 'units_0': 32,\n",
       " 'units_1': 448,\n",
       " 'learning_rate': 0.0001,\n",
       " 'units_2': 224,\n",
       " 'units_3': 160,\n",
       " 'units_4': 32,\n",
       " 'units_5': 256,\n",
       " 'units_6': 192,\n",
       " 'units_7': 224,\n",
       " 'units_8': 128,\n",
       " 'units_9': 32,\n",
       " 'units_10': 256,\n",
       " 'units_11': 224,\n",
       " 'units_12': 448,\n",
       " 'units_13': 384,\n",
       " 'units_14': 384,\n",
       " 'units_15': 480,\n",
       " 'units_16': 160,\n",
       " 'units_17': 224,\n",
       " 'units_18': 160,\n",
       " 'units_19': 64}"
      ]
     },
     "execution_count": 44,
     "metadata": {},
     "output_type": "execute_result"
    }
   ],
   "source": [
    "tuner_second.get_best_hyperparameters()[0].values"
   ]
  },
  {
   "cell_type": "code",
   "execution_count": 46,
   "metadata": {},
   "outputs": [
    {
     "ename": "ValueError",
     "evalue": "This model has not yet been built. Build the model first by calling `build()` or by calling the model on a batch of data.",
     "output_type": "error",
     "traceback": [
      "\u001b[1;31m---------------------------------------------------------------------------\u001b[0m",
      "\u001b[1;31mValueError\u001b[0m                                Traceback (most recent call last)",
      "Cell \u001b[1;32mIn[46], line 1\u001b[0m\n\u001b[1;32m----> 1\u001b[0m \u001b[43mtuner_second\u001b[49m\u001b[38;5;241;43m.\u001b[39;49m\u001b[43mget_best_models\u001b[49m\u001b[43m(\u001b[49m\u001b[43mnum_models\u001b[49m\u001b[38;5;241;43m=\u001b[39;49m\u001b[38;5;241;43m1\u001b[39;49m\u001b[43m)\u001b[49m\u001b[43m[\u001b[49m\u001b[38;5;241;43m0\u001b[39;49m\u001b[43m]\u001b[49m\u001b[38;5;241;43m.\u001b[39;49m\u001b[43msummary\u001b[49m\u001b[43m(\u001b[49m\u001b[43m)\u001b[49m\n",
      "File \u001b[1;32mc:\\Users\\admin\\anaconda3\\envs\\tf\\lib\\site-packages\\keras\\engine\\training.py:3214\u001b[0m, in \u001b[0;36mModel.summary\u001b[1;34m(self, line_length, positions, print_fn, expand_nested, show_trainable, layer_range)\u001b[0m\n\u001b[0;32m   3184\u001b[0m \u001b[38;5;250m\u001b[39m\u001b[38;5;124;03m\"\"\"Prints a string summary of the network.\u001b[39;00m\n\u001b[0;32m   3185\u001b[0m \n\u001b[0;32m   3186\u001b[0m \u001b[38;5;124;03mArgs:\u001b[39;00m\n\u001b[1;32m   (...)\u001b[0m\n\u001b[0;32m   3211\u001b[0m \u001b[38;5;124;03m    ValueError: if `summary()` is called before the model is built.\u001b[39;00m\n\u001b[0;32m   3212\u001b[0m \u001b[38;5;124;03m\"\"\"\u001b[39;00m\n\u001b[0;32m   3213\u001b[0m \u001b[38;5;28;01mif\u001b[39;00m \u001b[38;5;129;01mnot\u001b[39;00m \u001b[38;5;28mself\u001b[39m\u001b[38;5;241m.\u001b[39mbuilt:\n\u001b[1;32m-> 3214\u001b[0m     \u001b[38;5;28;01mraise\u001b[39;00m \u001b[38;5;167;01mValueError\u001b[39;00m(\n\u001b[0;32m   3215\u001b[0m         \u001b[38;5;124m\"\u001b[39m\u001b[38;5;124mThis model has not yet been built. \u001b[39m\u001b[38;5;124m\"\u001b[39m\n\u001b[0;32m   3216\u001b[0m         \u001b[38;5;124m\"\u001b[39m\u001b[38;5;124mBuild the model first by calling `build()` or by calling \u001b[39m\u001b[38;5;124m\"\u001b[39m\n\u001b[0;32m   3217\u001b[0m         \u001b[38;5;124m\"\u001b[39m\u001b[38;5;124mthe model on a batch of data.\u001b[39m\u001b[38;5;124m\"\u001b[39m\n\u001b[0;32m   3218\u001b[0m     )\n\u001b[0;32m   3219\u001b[0m layer_utils\u001b[38;5;241m.\u001b[39mprint_summary(\n\u001b[0;32m   3220\u001b[0m     \u001b[38;5;28mself\u001b[39m,\n\u001b[0;32m   3221\u001b[0m     line_length\u001b[38;5;241m=\u001b[39mline_length,\n\u001b[1;32m   (...)\u001b[0m\n\u001b[0;32m   3226\u001b[0m     layer_range\u001b[38;5;241m=\u001b[39mlayer_range,\n\u001b[0;32m   3227\u001b[0m )\n",
      "\u001b[1;31mValueError\u001b[0m: This model has not yet been built. Build the model first by calling `build()` or by calling the model on a batch of data."
     ]
    }
   ],
   "source": [
    "tuner_second.get_best_models(num_models=1)[0].summary()"
   ]
  },
  {
   "cell_type": "code",
   "execution_count": 47,
   "metadata": {},
   "outputs": [],
   "source": [
    "import os, time\n",
    "\n",
    "def save_model(model_dir = \"Saved_models\"):\n",
    "    os.makedirs(model_dir, exist_ok=True)\n",
    "    filename = time.strftime(\"Model_%d_%m_%Y_%H_%M_%S.h5\")\n",
    "    model_path = os.path.join(model_dir, filename)\n",
    "    return (f\"The model is saved at {model_path}\")"
   ]
  },
  {
   "cell_type": "code",
   "execution_count": 48,
   "metadata": {},
   "outputs": [
    {
     "ename": "TypeError",
     "evalue": "BaseTuner.save() takes 1 positional argument but 2 were given",
     "output_type": "error",
     "traceback": [
      "\u001b[1;31m---------------------------------------------------------------------------\u001b[0m",
      "\u001b[1;31mTypeError\u001b[0m                                 Traceback (most recent call last)",
      "Cell \u001b[1;32mIn[48], line 1\u001b[0m\n\u001b[1;32m----> 1\u001b[0m \u001b[43mtuner\u001b[49m\u001b[38;5;241;43m.\u001b[39;49m\u001b[43msave\u001b[49m\u001b[43m(\u001b[49m\u001b[43msave_model\u001b[49m\u001b[43m(\u001b[49m\u001b[43m)\u001b[49m\u001b[43m)\u001b[49m\n",
      "\u001b[1;31mTypeError\u001b[0m: BaseTuner.save() takes 1 positional argument but 2 were given"
     ]
    }
   ],
   "source": [
    "tuner.save(save_model())"
   ]
  },
  {
   "cell_type": "code",
   "execution_count": 49,
   "metadata": {},
   "outputs": [
    {
     "ename": "TypeError",
     "evalue": "BaseTuner.save() takes 1 positional argument but 2 were given",
     "output_type": "error",
     "traceback": [
      "\u001b[1;31m---------------------------------------------------------------------------\u001b[0m",
      "\u001b[1;31mTypeError\u001b[0m                                 Traceback (most recent call last)",
      "Cell \u001b[1;32mIn[49], line 1\u001b[0m\n\u001b[1;32m----> 1\u001b[0m \u001b[43mtuner_second\u001b[49m\u001b[38;5;241;43m.\u001b[39;49m\u001b[43msave\u001b[49m\u001b[43m(\u001b[49m\u001b[43msave_model\u001b[49m\u001b[43m(\u001b[49m\u001b[43m)\u001b[49m\u001b[43m)\u001b[49m\n",
      "\u001b[1;31mTypeError\u001b[0m: BaseTuner.save() takes 1 positional argument but 2 were given"
     ]
    }
   ],
   "source": [
    "tuner_second.save(save_model())"
   ]
  },
  {
   "cell_type": "code",
   "execution_count": null,
   "metadata": {},
   "outputs": [],
   "source": []
  }
 ],
 "metadata": {
  "kernelspec": {
   "display_name": "base",
   "language": "python",
   "name": "python3"
  },
  "language_info": {
   "codemirror_mode": {
    "name": "ipython",
    "version": 3
   },
   "file_extension": ".py",
   "mimetype": "text/x-python",
   "name": "python",
   "nbconvert_exporter": "python",
   "pygments_lexer": "ipython3",
   "version": "3.10.13"
  }
 },
 "nbformat": 4,
 "nbformat_minor": 2
}
