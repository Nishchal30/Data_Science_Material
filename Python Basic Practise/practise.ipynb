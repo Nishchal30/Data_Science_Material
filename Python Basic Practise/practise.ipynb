{
 "cells": [
  {
   "cell_type": "markdown",
   "metadata": {},
   "source": [
    "In python there are four types of integer datatype\n",
    "\n",
    "1. Decimal (base 10) - default base\n",
    "2. Binary (base 2) :- starts with 0 followed by 'b' or 'B' and then 0 to 1\n",
    "3. Octal (base 8) :- starts with 0 followed by 'o' or 'O' and then 0 to 7\n",
    "4. Hexadecimal (base 16) :- starts with 0 followed by 'x' or 'X' and then 0 to 9 and 9 onwards A - F for (10 - 15)\n"
   ]
  },
  {
   "cell_type": "markdown",
   "metadata": {},
   "source": [
    "The conversions can be made by the following way:\n",
    "\n",
    "- Binary() :- starts from 2^0 from the right side. going from right to left increase power by 1.\n",
    "  \\\n",
    "  exa:- 1010 (0 mul 2^0 + 1 mul 2^1 + 0 mul 2^2 + 1 mul 2^3)\n",
    "- Octal :- starts from 8^0 from the right side. going from right to left increase power by 1.\n",
    "  \\\n",
    "  exa:- 1567 (7 mul 8^0 + 6 mul 8^1 + 5 mul 8^2 + 1 mul 8^3)\n",
    "- Hexadecimal :- starts from 16^0 from the right side. going from right to left increase power by 1.\n",
    "  \\\n",
    "  exa:- AB8F (15 mul 16^0 + 8 mul 16^1 + 11 mul 16^2 + 10 mul 16^3)\n"
   ]
  },
  {
   "cell_type": "code",
   "execution_count": 9,
   "metadata": {},
   "outputs": [
    {
     "data": {
      "text/plain": [
       "42686"
      ]
     },
     "execution_count": 9,
     "metadata": {},
     "output_type": "execute_result"
    }
   ],
   "source": [
    "0b10101  # Binary\n",
    "0o1436  # Octal\n",
    "0xA6BE  # Hexadecimal"
   ]
  },
  {
   "cell_type": "markdown",
   "metadata": {},
   "source": [
    "To convert from one int data type to another we use special functions like-\n",
    "\n",
    "- bin() to convert from anything to binary\n",
    "- oct() to convert anything to octal\n",
    "- hex() to convert anything to hexadecimal\n"
   ]
  },
  {
   "cell_type": "code",
   "execution_count": 1,
   "metadata": {},
   "outputs": [
    {
     "data": {
      "text/plain": [
       "'0b1111'"
      ]
     },
     "execution_count": 1,
     "metadata": {},
     "output_type": "execute_result"
    }
   ],
   "source": [
    "bin(15)"
   ]
  },
  {
   "cell_type": "code",
   "execution_count": 2,
   "metadata": {},
   "outputs": [
    {
     "data": {
      "text/plain": [
       "'0o17'"
      ]
     },
     "execution_count": 2,
     "metadata": {},
     "output_type": "execute_result"
    }
   ],
   "source": [
    "oct(15)"
   ]
  },
  {
   "cell_type": "code",
   "execution_count": 3,
   "metadata": {},
   "outputs": [
    {
     "data": {
      "text/plain": [
       "'0b1001001000'"
      ]
     },
     "execution_count": 3,
     "metadata": {},
     "output_type": "execute_result"
    }
   ],
   "source": [
    "bin(0o1110)"
   ]
  },
  {
   "cell_type": "code",
   "execution_count": 4,
   "metadata": {},
   "outputs": [
    {
     "data": {
      "text/plain": [
       "'0b1001000110100'"
      ]
     },
     "execution_count": 4,
     "metadata": {},
     "output_type": "execute_result"
    }
   ],
   "source": [
    "bin(0x1234)"
   ]
  },
  {
   "cell_type": "code",
   "execution_count": 10,
   "metadata": {},
   "outputs": [
    {
     "data": {
      "text/plain": [
       "'0x4195'"
      ]
     },
     "execution_count": 10,
     "metadata": {},
     "output_type": "execute_result"
    }
   ],
   "source": [
    "hex(16789)"
   ]
  },
  {
   "cell_type": "code",
   "execution_count": 11,
   "metadata": {},
   "outputs": [
    {
     "data": {
      "text/plain": [
       "16789"
      ]
     },
     "execution_count": 11,
     "metadata": {},
     "output_type": "execute_result"
    }
   ],
   "source": [
    "5 * 1 + 9 * 16 + 1 * 256 + 4 * 256 * 16"
   ]
  },
  {
   "cell_type": "code",
   "execution_count": 3,
   "metadata": {},
   "outputs": [
    {
     "data": {
      "text/plain": [
       "float"
      ]
     },
     "execution_count": 3,
     "metadata": {},
     "output_type": "execute_result"
    }
   ],
   "source": [
    "type(1.2e3)"
   ]
  },
  {
   "cell_type": "code",
   "execution_count": 4,
   "metadata": {},
   "outputs": [
    {
     "data": {
      "text/plain": [
       "complex"
      ]
     },
     "execution_count": 4,
     "metadata": {},
     "output_type": "execute_result"
    }
   ],
   "source": [
    "type(10 + 2j)"
   ]
  },
  {
   "cell_type": "code",
   "execution_count": 21,
   "metadata": {},
   "outputs": [],
   "source": [
    "x = 2\n",
    "y = 2\n",
    "z = 2\n",
    "n = 2"
   ]
  },
  {
   "cell_type": "code",
   "execution_count": 16,
   "metadata": {},
   "outputs": [
    {
     "name": "stdout",
     "output_type": "stream",
     "text": [
      "0\n"
     ]
    }
   ],
   "source": [
    "for i in range(x):\n",
    "    print(i)"
   ]
  },
  {
   "cell_type": "code",
   "execution_count": 22,
   "metadata": {},
   "outputs": [
    {
     "data": {
      "text/plain": [
       "[[0, 0, 0],\n",
       " [0, 0, 1],\n",
       " [0, 1, 0],\n",
       " [0, 1, 2],\n",
       " [0, 2, 1],\n",
       " [0, 2, 2],\n",
       " [1, 0, 0],\n",
       " [1, 0, 2],\n",
       " [1, 1, 1],\n",
       " [1, 1, 2],\n",
       " [1, 2, 0],\n",
       " [1, 2, 1],\n",
       " [1, 2, 2],\n",
       " [2, 0, 1],\n",
       " [2, 0, 2],\n",
       " [2, 1, 0],\n",
       " [2, 1, 1],\n",
       " [2, 1, 2],\n",
       " [2, 2, 0],\n",
       " [2, 2, 1],\n",
       " [2, 2, 2]]"
      ]
     },
     "execution_count": 22,
     "metadata": {},
     "output_type": "execute_result"
    }
   ],
   "source": [
    "result = [\n",
    "    [i, j, k]\n",
    "    for i in range(0, x + 1)\n",
    "    for j in range(0, y + 1)\n",
    "    for k in range(0, z + 1)\n",
    "    if (i + j + k != n)\n",
    "]\n",
    "result"
   ]
  },
  {
   "cell_type": "code",
   "execution_count": 76,
   "metadata": {},
   "outputs": [],
   "source": [
    "n = int(input())\n",
    "arr = map(int, input().split())"
   ]
  },
  {
   "cell_type": "code",
   "execution_count": 105,
   "metadata": {},
   "outputs": [
    {
     "name": "stdout",
     "output_type": "stream",
     "text": [
      "[5, 5, 4, 3, 2, 1]\n",
      "2\n",
      "4\n"
     ]
    }
   ],
   "source": [
    "n = int(input())\n",
    "arr = map(int, input().split())\n",
    "num = list(arr)\n",
    "num.sort(reverse=True)\n",
    "print(num)\n",
    "max_ele = max(num)\n",
    "count_max = num.count(max_ele)\n",
    "if count_max != 0:\n",
    "    print(count_max)\n",
    "    print(num[count_max])"
   ]
  },
  {
   "cell_type": "code",
   "execution_count": 115,
   "metadata": {},
   "outputs": [
    {
     "name": "stdout",
     "output_type": "stream",
     "text": [
      "['Harry', 37.21]\n",
      "['Berry', 37.21]\n",
      "['Tina', 37.2]\n",
      "['Akriti', 41]\n",
      "['Harsh', 39]\n"
     ]
    }
   ],
   "source": [
    "students = [\n",
    "    [\"Harry\", 37.21],\n",
    "    [\"Berry\", 37.21],\n",
    "    [\"Tina\", 37.2],\n",
    "    [\"Akriti\", 41],\n",
    "    [\"Harsh\", 39],\n",
    "]\n",
    "for i in students:\n",
    "    print(i)"
   ]
  },
  {
   "cell_type": "code",
   "execution_count": 15,
   "metadata": {},
   "outputs": [
    {
     "name": "stdout",
     "output_type": "stream",
     "text": [
      "5.00\n"
     ]
    }
   ],
   "source": [
    "n = int(input())\n",
    "student_marks = {}\n",
    "for _ in range(n):\n",
    "    name, *line = input().split()\n",
    "    scores = list(map(float, line))\n",
    "    student_marks[name] = scores\n",
    "\n",
    "query_name = input()\n",
    "query_marks = student_marks[query_name]\n",
    "avg_marks = (query_marks[0] + query_marks[1] + query_marks[2]) / 3\n",
    "\n",
    "print(f\"{avg_marks:.2f}\")"
   ]
  },
  {
   "cell_type": "code",
   "execution_count": 29,
   "metadata": {},
   "outputs": [
    {
     "name": "stdout",
     "output_type": "stream",
     "text": [
      "[2 3]\n",
      "[2 3 4]\n",
      "[5 6 7]\n"
     ]
    }
   ],
   "source": [
    "import numpy as np\n",
    "\n",
    "n = np.array(list(map(int, input().split())))\n",
    "arr1 = np.array(list(map(int, input().split())))\n",
    "arr2 = np.array(list(map(int, input().split())))\n",
    "# list1 = []\n",
    "# list2 = []\n",
    "# for _ in range(n):\n",
    "#     map(int, input().split())\n",
    "print(n)\n",
    "print(arr1)\n",
    "print(arr2)\n",
    "\n",
    "# np.array(arr1).mean()"
   ]
  },
  {
   "cell_type": "code",
   "execution_count": 36,
   "metadata": {},
   "outputs": [
    {
     "name": "stdout",
     "output_type": "stream",
     "text": [
      "{'insert': [0, 6], 'print': []}\n",
      "[6]\n",
      "[6]\n",
      "[6]\n"
     ]
    }
   ],
   "source": [
    "n = int(input())\n",
    "output = []\n",
    "commands = {}\n",
    "for _ in range(n):\n",
    "    command_name, *line = input().split()\n",
    "    values = list(map(int, line))\n",
    "    commands[command_name] = values\n",
    "print(commands)\n",
    "for i in commands:\n",
    "    if i == \"insert\":\n",
    "        output.insert(commands[i][0], commands[i][1])\n",
    "    elif i == \"print\":\n",
    "        print(output)\n",
    "    elif i == \"remove\":\n",
    "        output.remove(commands[i][0])\n",
    "    if i == \"append\":\n",
    "        output.append(commands[i][0])\n",
    "    elif i == \"sort\":\n",
    "        output.sort()\n",
    "    elif i == \"pop\":\n",
    "        output.pop()\n",
    "    elif i == \"reverse\":\n",
    "        output.reverse()\n",
    "    else:\n",
    "        print(output)"
   ]
  },
  {
   "cell_type": "code",
   "execution_count": 20,
   "metadata": {},
   "outputs": [
    {
     "name": "stdout",
     "output_type": "stream",
     "text": [
      "[6, 5, 10]\n",
      "[1, 5, 9, 10]\n",
      "[9, 5, 1]\n"
     ]
    }
   ],
   "source": [
    "n = int(input())\n",
    "output = []\n",
    "counter = 0\n",
    "\n",
    "while counter < n:\n",
    "    command = input().split()\n",
    "    if command[0] == \"insert\":\n",
    "        output.insert(int(command[1]), int(command[2]))\n",
    "    elif command[0] == \"print\":\n",
    "        print(output)\n",
    "    elif command[0] == \"remove\":\n",
    "        output.remove(int(command[1]))\n",
    "    if command[0] == \"append\":\n",
    "        output.append(int(command[1]))\n",
    "    elif command[0] == \"sort\":\n",
    "        output.sort()\n",
    "    elif command[0] == \"pop\":\n",
    "        output.pop()\n",
    "    elif command[0] == \"reverse\":\n",
    "        output.reverse()\n",
    "    else:\n",
    "        # print(output)\n",
    "        pass\n",
    "    counter = counter + 1"
   ]
  },
  {
   "cell_type": "code",
   "execution_count": 29,
   "metadata": {},
   "outputs": [
    {
     "name": "stdout",
     "output_type": "stream",
     "text": [
      "-4817860820257073654\n"
     ]
    }
   ],
   "source": [
    "n = int(input())\n",
    "ele = tuple(input().split())\n",
    "ele\n",
    "print(hash(ele))"
   ]
  },
  {
   "cell_type": "code",
   "execution_count": 40,
   "metadata": {},
   "outputs": [
    {
     "name": "stdout",
     "output_type": "stream",
     "text": [
      "H\n",
      "a\n",
      "c\n",
      "k\n",
      "e\n",
      "r\n",
      "R\n",
      "a\n",
      "n\n",
      "k\n",
      ".\n",
      "c\n",
      "o\n",
      "m\n",
      " \n",
      "p\n",
      "r\n",
      "e\n",
      "s\n",
      "e\n",
      "n\n",
      "t\n",
      "s\n",
      " \n",
      "\"\n",
      "P\n",
      "y\n",
      "t\n",
      "h\n",
      "o\n",
      "n\n",
      "i\n",
      "s\n",
      "t\n",
      " \n",
      "2\n",
      "\"\n",
      ".\n"
     ]
    },
    {
     "data": {
      "text/plain": [
       "['HackerRank.com', 'presents', '\"Pythonist', '2\".']"
      ]
     },
     "execution_count": 40,
     "metadata": {},
     "output_type": "execute_result"
    }
   ],
   "source": [
    "s = 'HackerRank.com presents \"Pythonist 2\".'\n",
    "for i in s:\n",
    "    print(i)\n",
    "    if i.capitalize == True:\n",
    "        "
   ]
  },
  {
   "cell_type": "code",
   "execution_count": 72,
   "metadata": {},
   "outputs": [
    {
     "name": "stdout",
     "output_type": "stream",
     "text": [
      "hACKERrANK.COM PRESENTS \"pYTHONIST 2\".\n"
     ]
    }
   ],
   "source": [
    "s = 'HackerRank.com presents \"Pythonist 2\".'\n",
    "n = str()\n",
    "for i in s:\n",
    "    if i.isupper():\n",
    "        n = n + i.lower()\n",
    "    else:\n",
    "        n = n + i.upper()\n",
    "\n",
    "print(str(n))"
   ]
  },
  {
   "cell_type": "code",
   "execution_count": 74,
   "metadata": {},
   "outputs": [
    {
     "name": "stdout",
     "output_type": "stream",
     "text": [
      "this-is-a-string\n"
     ]
    }
   ],
   "source": [
    "line = \"this is a string\"\n",
    "line = line.split(\" \")\n",
    "line = \"-\".join(line)\n",
    "print(line)\n"
   ]
  },
  {
   "cell_type": "code",
   "execution_count": 83,
   "metadata": {},
   "outputs": [],
   "source": [
    "def print_full_name(first, last):\n",
    "    result = \"Hello {} {}!\".format(first, last)\n",
    "    return result"
   ]
  },
  {
   "cell_type": "code",
   "execution_count": 84,
   "metadata": {},
   "outputs": [
    {
     "data": {
      "text/plain": [
       "'Hello Ross Taylor!'"
      ]
     },
     "execution_count": 84,
     "metadata": {},
     "output_type": "execute_result"
    }
   ],
   "source": [
    "first_name = input()\n",
    "last_name = input()\n",
    "print_full_name(first_name, last_name)"
   ]
  },
  {
   "cell_type": "code",
   "execution_count": 25,
   "metadata": {},
   "outputs": [],
   "source": [
    "def mutate_string(string, position, character):\n",
    "    new = string[:position-1] + character + string[position:]\n",
    "    s = input()\n",
    "    i, c = input().split()\n",
    "    s_new = mutate_string(s, int(i), c)\n",
    "    return new\n"
   ]
  },
  {
   "cell_type": "code",
   "execution_count": null,
   "metadata": {},
   "outputs": [],
   "source": [
    "\n",
    "        \n"
   ]
  },
  {
   "cell_type": "code",
   "execution_count": 27,
   "metadata": {},
   "outputs": [],
   "source": [
    "def count_substring(string, sub_string):\n",
    "    count = 0\n",
    "    for i in range(len(string)):\n",
    "        if string[i:i + len(sub_string)] == sub_string:\n",
    "            count +=1\n",
    "    \n",
    "    return count"
   ]
  },
  {
   "cell_type": "code",
   "execution_count": 34,
   "metadata": {},
   "outputs": [
    {
     "name": "stdout",
     "output_type": "stream",
     "text": [
      "False\n",
      "False\n",
      "True\n",
      "False\n",
      "True\n",
      "False\n",
      "False\n"
     ]
    }
   ],
   "source": [
    "s = \"ABCDCDC\"\n",
    "sub = \"CDC\"\n",
    "for i in range(len(s)):\n",
    "    if s[i:i+len(sub)] == sub:\n",
    "        print(True)\n",
    "    else:\n",
    "        print(False)"
   ]
  },
  {
   "cell_type": "code",
   "execution_count": 8,
   "metadata": {},
   "outputs": [
    {
     "name": "stdout",
     "output_type": "stream",
     "text": [
      "True\n",
      "True\n",
      "False\n",
      "False\n",
      "False\n"
     ]
    }
   ],
   "source": [
    "a = input()\n",
    "print(a.isalnum())\n",
    "print(a.isalnum())\n",
    "print(a.isdigit())\n",
    "print(a.islower())\n",
    "print(a.isupper())"
   ]
  },
  {
   "cell_type": "code",
   "execution_count": 9,
   "metadata": {},
   "outputs": [
    {
     "ename": "NameError",
     "evalue": "name 'qA2' is not defined",
     "output_type": "error",
     "traceback": [
      "\u001b[1;31m---------------------------------------------------------------------------\u001b[0m",
      "\u001b[1;31mNameError\u001b[0m                                 Traceback (most recent call last)",
      "Cell \u001b[1;32mIn[9], line 1\u001b[0m\n\u001b[1;32m----> 1\u001b[0m \u001b[39mstr\u001b[39m(qA2)\u001b[39m.\u001b[39mislower()\n",
      "\u001b[1;31mNameError\u001b[0m: name 'qA2' is not defined"
     ]
    }
   ],
   "source": [
    "str(qA2).islower()"
   ]
  },
  {
   "cell_type": "code",
   "execution_count": 78,
   "metadata": {},
   "outputs": [
    {
     "name": "stdout",
     "output_type": "stream",
     "text": [
      "    H    \n",
      "   HHH   \n",
      "  HHHHH  \n",
      " HHHHHHH \n",
      "HHHHHHHHH\n",
      "  HHHHH               HHHHH             \n",
      "  HHHHH               HHHHH             \n",
      "  HHHHH               HHHHH             \n",
      "  HHHHH               HHHHH             \n",
      "  HHHHH               HHHHH             \n",
      "  HHHHH               HHHHH             \n",
      "  HHHHHHHHHHHHHHHHHHHHHHHHH   \n",
      "  HHHHHHHHHHHHHHHHHHHHHHHHH   \n",
      "  HHHHHHHHHHHHHHHHHHHHHHHHH   \n",
      "  HHHHH               HHHHH             \n",
      "  HHHHH               HHHHH             \n",
      "  HHHHH               HHHHH             \n",
      "  HHHHH               HHHHH             \n",
      "  HHHHH               HHHHH             \n",
      "  HHHHH               HHHHH             \n",
      "                    HHHHHHHHH \n",
      "                     HHHHHHH  \n",
      "                      HHHHH   \n",
      "                       HHH    \n",
      "                        H     \n"
     ]
    }
   ],
   "source": [
    "#Replace all ______ with rjust, ljust or center. \n",
    "\n",
    "thickness = int(input()) #This must be an odd number\n",
    "c = 'H'\n",
    "\n",
    "#Top Cone\n",
    "for i in range(thickness):\n",
    "    print((c*i).rjust(thickness-1)+c+(c*i).ljust(thickness-1))\n",
    "\n",
    "#Top Pillars\n",
    "for i in range(thickness+1):\n",
    "    print((c*thickness).center(thickness*2)+(c*thickness).center(thickness*6))\n",
    "\n",
    "#Middle Belt\n",
    "for i in range((thickness+1)//2):\n",
    "    print((c*thickness*5).center(thickness*6))    \n",
    "\n",
    "#Bottom Pillars\n",
    "for i in range(thickness+1):\n",
    "    print((c*thickness).center(thickness*2)+(c*thickness).center(thickness*6))    \n",
    "\n",
    "for i in range(thickness):\n",
    "    print(((c*(thickness-i-1)).rjust(thickness)+c+(c*(thickness-i-1)).ljust(thickness)).rjust(thickness*6))"
   ]
  },
  {
   "cell_type": "code",
   "execution_count": 129,
   "metadata": {},
   "outputs": [
    {
     "name": "stdout",
     "output_type": "stream",
     "text": [
      "ABCD\n",
      "EFGH\n",
      "IJKL\n",
      "IMNO\n",
      "QRST\n",
      "UVWX\n",
      "YZ\n",
      "\n"
     ]
    }
   ],
   "source": [
    "def wrap(string, max_widht):\n",
    "\n",
    "    result = \"\"\n",
    "    for i in range(0, len(string),max_widht):\n",
    "        result += (string[i:i+max_widht]) + '\\n'\n",
    "    \n",
    "    return result\n",
    "\n",
    "\n",
    "if __name__ == '__main__':\n",
    "    string, max_width = input(), int(input())\n",
    "    result = wrap(string, max_width)\n",
    "    print(result)"
   ]
  },
  {
   "cell_type": "code",
   "execution_count": 140,
   "metadata": {},
   "outputs": [
    {
     "name": "stdout",
     "output_type": "stream",
     "text": [
      "------------.|.------------\n",
      "---------.|..|..|.---------\n",
      "------.|..|..|..|..|.------\n",
      "---.|..|..|..|..|..|..|.---\n",
      "----------WELCOME----------\n",
      "---.|..|..|..|..|..|..|.---\n",
      "------.|..|..|..|..|.------\n",
      "---------.|..|..|.---------\n",
      "------------.|.------------\n"
     ]
    }
   ],
   "source": [
    "N, M = map(int, input().split())\n",
    "f = 1 \n",
    "pattern = '.|.'\n",
    "\n",
    "middle = N//2\n",
    "\n",
    "for n in range(N):\n",
    "    if n == middle:\n",
    "        print('WELCOME'.center(M,'-'))\n",
    "    else:\n",
    "        print((f*pattern).center(M,'-'))\n",
    "        if n<middle-1: f += 2\n",
    "        elif n>middle: f -= 2"
   ]
  },
  {
   "cell_type": "code",
   "execution_count": 103,
   "metadata": {},
   "outputs": [],
   "source": [
    "def solve(s):\n",
    "    s1 = [i.capitalize() for i in s.split(\" \")]\n",
    "    return (\" \".join(s1))"
   ]
  },
  {
   "cell_type": "code",
   "execution_count": 104,
   "metadata": {},
   "outputs": [
    {
     "data": {
      "text/plain": [
       "'Nis Chal'"
      ]
     },
     "execution_count": 104,
     "metadata": {},
     "output_type": "execute_result"
    }
   ],
   "source": [
    "solve(\"nis chal\")"
   ]
  },
  {
   "cell_type": "code",
   "execution_count": 19,
   "metadata": {},
   "outputs": [
    {
     "name": "stdout",
     "output_type": "stream",
     "text": [
      "[['f', 4778.0], ['d', 33.0]]\n"
     ]
    }
   ],
   "source": [
    "n = \n",
    "l = []\n",
    "records = []\n",
    "for _ in range(n):\n",
    "    name = input()\n",
    "    score = float(input())\n",
    "    l.append([name, score])\n",
    "\n",
    "print(l)\n"
   ]
  },
  {
   "cell_type": "code",
   "execution_count": 20,
   "metadata": {},
   "outputs": [],
   "source": [
    "l1 = set(i[1] for i in l)"
   ]
  },
  {
   "cell_type": "code",
   "execution_count": 22,
   "metadata": {},
   "outputs": [
    {
     "data": {
      "text/plain": [
       "[['Harry', 37.21],\n",
       " ['Berry', 37.21],\n",
       " ['Tina', 37.2],\n",
       " ['Akriti', 41],\n",
       " ['Harsh', 39]]"
      ]
     },
     "execution_count": 22,
     "metadata": {},
     "output_type": "execute_result"
    }
   ],
   "source": [
    "l1 = [['Harry', 37.21], ['Berry', 37.21], ['Tina', 37.2], ['Akriti', 41], ['Harsh', 39]]\n",
    "l1"
   ]
  },
  {
   "cell_type": "code",
   "execution_count": 36,
   "metadata": {},
   "outputs": [
    {
     "name": "stdout",
     "output_type": "stream",
     "text": [
      "   1    1    1    1\n",
      "   2    2    2   10\n",
      "   3    3    3   11\n",
      "   4    4    4  100\n",
      "   5    5    5  101\n",
      "   6    6    6  110\n",
      "   7    7    7  111\n",
      "   8   10    8 1000\n",
      "   9   11    9 1001\n",
      "  10   12    A 1010\n",
      "  11   13    B 1011\n",
      "  12   14    C 1100\n"
     ]
    }
   ],
   "source": [
    "number = 12\n",
    "l = []\n",
    "for i in range(1, number+1):\n",
    "    octal = oct(i).split(\"o\")[-1]\n",
    "    hexa = hex(i).split(\"x\")[-1].upper()\n",
    "    binary = bin(i).split(\"b\")[-1]\n",
    "\n",
    "    l.append((i, octal, hexa, binary))\n",
    "\n",
    "width = len(binary)\n",
    "for num, octal, hexa, binary in l:\n",
    "    print(f\"{num:>{width}} {octal:>{width}} {hexa:>{width}} {binary:>{width}}\")\n"
   ]
  },
  {
   "cell_type": "code",
   "execution_count": 30,
   "metadata": {},
   "outputs": [
    {
     "data": {
      "text/plain": [
       "[(17, '21', '11', '10001')]"
      ]
     },
     "execution_count": 30,
     "metadata": {},
     "output_type": "execute_result"
    }
   ],
   "source": [
    "l"
   ]
  },
  {
   "cell_type": "code",
   "execution_count": 28,
   "metadata": {},
   "outputs": [
    {
     "name": "stdout",
     "output_type": "stream",
     "text": [
      "  1   1\n",
      "  2   2\n",
      "  3   3\n",
      "  4   4\n",
      "  5   5\n"
     ]
    }
   ],
   "source": [
    "for num, octal, hexa, binary in l:\n",
    "    print(f\"{num:>{width}} {octal:>{width}}\")"
   ]
  },
  {
   "cell_type": "code",
   "execution_count": 9,
   "metadata": {},
   "outputs": [
    {
     "data": {
      "text/plain": [
       "135.5"
      ]
     },
     "execution_count": 9,
     "metadata": {},
     "output_type": "execute_result"
    }
   ],
   "source": [
    "l = [161, 182, 161, 154, 176, 170, 167, 171, 170, 174]\n",
    "sum(set(l))/len(l)"
   ]
  },
  {
   "cell_type": "code",
   "execution_count": 12,
   "metadata": {},
   "outputs": [
    {
     "data": {
      "text/plain": [
       "169.375"
      ]
     },
     "execution_count": 12,
     "metadata": {},
     "output_type": "execute_result"
    }
   ],
   "source": [
    "sum(set(l))/len(set(l))"
   ]
  },
  {
   "cell_type": "code",
   "execution_count": 5,
   "metadata": {},
   "outputs": [
    {
     "name": "stdout",
     "output_type": "stream",
     "text": [
      "{9, 2, 4, 5}\n",
      "{2, 11, 4, 12}\n",
      "5\n",
      "9\n",
      "11\n",
      "12\n"
     ]
    }
   ],
   "source": [
    "n1 = int(input())\n",
    "a = set(map(int, input().split()))\n",
    "n2 = int(input())\n",
    "b = set(map(int, input().split()))\n",
    "l1 = sorted(a.difference(b))\n",
    "l2 = sorted(b.difference(a))\n",
    "l3 = sorted(set(l1).union(set(l2)))\n",
    "for i in l3:\n",
    "    print(i)"
   ]
  },
  {
   "cell_type": "code",
   "execution_count": 20,
   "metadata": {},
   "outputs": [
    {
     "name": "stdout",
     "output_type": "stream",
     "text": [
      "2\n"
     ]
    }
   ],
   "source": [
    "country = set()\n",
    "n = int(input())\n",
    "for i in range(n):\n",
    "\n",
    "    country.add(str(input()))\n",
    "\n",
    "print(len(country))"
   ]
  },
  {
   "cell_type": "code",
   "execution_count": 29,
   "metadata": {},
   "outputs": [
    {
     "name": "stdout",
     "output_type": "stream",
     "text": [
      "4\n"
     ]
    }
   ],
   "source": [
    "n = int(input())\n",
    "s = set(map(int, input().split()))\n",
    "commands = int(input())\n",
    "counter = 0\n",
    "\n",
    "while counter < commands:\n",
    "    command = input().split()\n",
    "    if command[0] == 'pop':\n",
    "        s.pop()\n",
    "    elif command[0] == 'remove':\n",
    "        s.remove(int(command[1]))\n",
    "    elif command[0] == 'discard':\n",
    "        s.discard(int(command[1]))\n",
    "    else:\n",
    "        pass\n",
    "    counter = counter + 1\n",
    "\n",
    "print(sum(s))"
   ]
  },
  {
   "cell_type": "code",
   "execution_count": 28,
   "metadata": {},
   "outputs": [
    {
     "data": {
      "text/plain": [
       "45"
      ]
     },
     "execution_count": 28,
     "metadata": {},
     "output_type": "execute_result"
    }
   ],
   "source": [
    "s = {1, 2, 3, 4, 5, 6, 7, 8, 9}\n",
    "sum(s)\n"
   ]
  },
  {
   "cell_type": "code",
   "execution_count": null,
   "metadata": {},
   "outputs": [],
   "source": [
    "n = int(input())\n",
    "output = []\n",
    "counter = 0\n",
    "\n",
    "while counter < n:\n",
    "    command = input().split()\n",
    "    if command[0] == \"insert\":\n",
    "        output.insert(int(command[1]), int(command[2]))\n",
    "    elif command[0] == \"print\":\n",
    "        print(output)\n",
    "    elif command[0] == \"remove\":\n",
    "        output.remove(int(command[1]))\n",
    "    if command[0] == \"append\":\n",
    "        output.append(int(command[1]))\n",
    "    elif command[0] == \"sort\":\n",
    "        output.sort()\n",
    "    elif command[0] == \"pop\":\n",
    "        output.pop()\n",
    "    elif command[0] == \"reverse\":\n",
    "        output.reverse()\n",
    "    else:\n",
    "        # print(output)\n",
    "        pass\n",
    "    counter = counter + 1"
   ]
  },
  {
   "cell_type": "code",
   "execution_count": 42,
   "metadata": {},
   "outputs": [
    {
     "name": "stdout",
     "output_type": "stream",
     "text": [
      "AC\n",
      "AH\n",
      "AK\n",
      "CA\n",
      "CH\n",
      "CK\n",
      "HA\n",
      "HC\n",
      "HK\n",
      "KA\n",
      "KC\n",
      "KH\n"
     ]
    }
   ],
   "source": [
    "from itertools import permutations\n",
    "\n",
    "string, num = input().split()\n",
    "result = list(permutations(str(string), r = int(num)))\n",
    "result.sort()\n",
    "for i in result:\n",
    "    print(\"\".join(i))"
   ]
  },
  {
   "cell_type": "code",
   "execution_count": 61,
   "metadata": {},
   "outputs": [
    {
     "name": "stdout",
     "output_type": "stream",
     "text": [
      "['A', 'C', 'H', 'K']\n",
      "[\n",
      "'\n",
      "A\n",
      "'\n",
      ",\n",
      " \n",
      "'\n",
      "C\n",
      "'\n",
      ",\n",
      " \n",
      "'\n",
      "H\n",
      "'\n",
      ",\n",
      " \n",
      "'\n",
      "K\n",
      "'\n",
      "]\n",
      "['\n",
      "[A\n",
      "['\n",
      "[,\n",
      "[ \n",
      "['\n",
      "[C\n",
      "['\n",
      "[,\n",
      "[ \n",
      "['\n",
      "[H\n",
      "['\n",
      "[,\n",
      "[ \n",
      "['\n",
      "[K\n",
      "['\n",
      "[]\n",
      "'A\n",
      "''\n",
      "',\n",
      "' \n",
      "''\n",
      "'C\n",
      "''\n",
      "',\n",
      "' \n",
      "''\n",
      "'H\n",
      "''\n",
      "',\n",
      "' \n",
      "''\n",
      "'K\n",
      "''\n",
      "']\n",
      "A'\n",
      "A,\n",
      "A \n",
      "A'\n",
      "AC\n",
      "A'\n",
      "A,\n",
      "A \n",
      "A'\n",
      "AH\n",
      "A'\n",
      "A,\n",
      "A \n",
      "A'\n",
      "AK\n",
      "A'\n",
      "A]\n",
      "',\n",
      "' \n",
      "''\n",
      "'C\n",
      "''\n",
      "',\n",
      "' \n",
      "''\n",
      "'H\n",
      "''\n",
      "',\n",
      "' \n",
      "''\n",
      "'K\n",
      "''\n",
      "']\n",
      ", \n",
      ",'\n",
      ",C\n",
      ",'\n",
      ",,\n",
      ", \n",
      ",'\n",
      ",H\n",
      ",'\n",
      ",,\n",
      ", \n",
      ",'\n",
      ",K\n",
      ",'\n",
      ",]\n",
      " '\n",
      " C\n",
      " '\n",
      " ,\n",
      "  \n",
      " '\n",
      " H\n",
      " '\n",
      " ,\n",
      "  \n",
      " '\n",
      " K\n",
      " '\n",
      " ]\n",
      "'C\n",
      "''\n",
      "',\n",
      "' \n",
      "''\n",
      "'H\n",
      "''\n",
      "',\n",
      "' \n",
      "''\n",
      "'K\n",
      "''\n",
      "']\n",
      "C'\n",
      "C,\n",
      "C \n",
      "C'\n",
      "CH\n",
      "C'\n",
      "C,\n",
      "C \n",
      "C'\n",
      "CK\n",
      "C'\n",
      "C]\n",
      "',\n",
      "' \n",
      "''\n",
      "'H\n",
      "''\n",
      "',\n",
      "' \n",
      "''\n",
      "'K\n",
      "''\n",
      "']\n",
      ", \n",
      ",'\n",
      ",H\n",
      ",'\n",
      ",,\n",
      ", \n",
      ",'\n",
      ",K\n",
      ",'\n",
      ",]\n",
      " '\n",
      " H\n",
      " '\n",
      " ,\n",
      "  \n",
      " '\n",
      " K\n",
      " '\n",
      " ]\n",
      "'H\n",
      "''\n",
      "',\n",
      "' \n",
      "''\n",
      "'K\n",
      "''\n",
      "']\n",
      "H'\n",
      "H,\n",
      "H \n",
      "H'\n",
      "HK\n",
      "H'\n",
      "H]\n",
      "',\n",
      "' \n",
      "''\n",
      "'K\n",
      "''\n",
      "']\n",
      ", \n",
      ",'\n",
      ",K\n",
      ",'\n",
      ",]\n",
      " '\n",
      " K\n",
      " '\n",
      " ]\n",
      "'K\n",
      "''\n",
      "']\n",
      "K'\n",
      "K]\n",
      "']\n"
     ]
    }
   ],
   "source": [
    "from itertools import combinations\n",
    "\n",
    "string, num = input().split()\n",
    "\n",
    "\n",
    "result1 = list(combinations(str(s), 1))\n",
    "result2 = list(combinations(str(s), int(num)))\n",
    "result = result1 + result2\n",
    "for i in result:\n",
    "    print(\"\".join(i))"
   ]
  },
  {
   "cell_type": "code",
   "execution_count": null,
   "metadata": {},
   "outputs": [],
   "source": [
    "import os\n",
    "import win32com.client as win32\n",
    "\n",
    "image_path = r\"D:/converted image/page_1.png\"\n",
    "outlook = win32.Dispatch(\"Outlook.Application\")\n",
    "\n",
    "mail = outlook.CreateItem(0)\n",
    "mail.To = \"husainm@comsenseconsulting.com\"\n",
    "\n",
    "mail.Subject = \"Email with Embedded Image\"\n",
    "\n",
    "# Create an HTML body for the email with the embedded image\n",
    "html_body = f\"\"\"\n",
    "            <html>\n",
    "            <body>\n",
    "            <p>This email contains an embedded image:</p>\n",
    "            <img src=\"cid:image1\" alt=\"Embedded Image\">\n",
    "            <img src=\"cid:image2\" alt=\"Embedded Image\">\n",
    "            </body>\n",
    "            </html>\n",
    "\"\"\"\n",
    "\n",
    "mail.HTMLBody = html_body\n",
    "attachment = mail.Attachments.Add(image_path)\n",
    "\n",
    "attachment.PropertyAccessor.SetProperty(\"http://schemas.microsoft.com/mapi/proptag/0x3712001E\", \"image1\")\n",
    "attachment = mail.Attachments.Add(image_path)\n",
    "attachment.PropertyAccessor.SetProperty(\"http://schemas.microsoft.com/mapi/proptag/0x3712001E\", \"image2\")\n",
    "\n",
    "mail.Send()\n",
    "\n",
    "print(\"Email sent successfully!\")"
   ]
  },
  {
   "cell_type": "code",
   "execution_count": null,
   "metadata": {},
   "outputs": [],
   "source": [
    "from pdf2image import convert_from_path\n",
    "from PIL import Image\n",
    "import os\n",
    "\n",
    "pdf_file_path = 'D:/to convert/VIU DART.pdf'\n",
    "poppler_path = r\"C:\\Program Files\\poppler-23.08.0\\Library\\bin\"\n",
    "\n",
    "# Convert PDF to a list of images\n",
    "images = convert_from_path(pdf_file_path, poppler_path=poppler_path)\n",
    "\n",
    "output_directory = r\"D:/converted image\"\n",
    "os.makedirs(output_directory, exist_ok=True)\n",
    "\n",
    "# Save the images in the output directory\n",
    "for i, image in enumerate(images):\n",
    "    image.save(os.path.join(output_directory, f\"page_{i + 1}.png\"), \"PNG\")\n",
    "\n",
    "print(f\"PDF converted to images and saved in {output_directory} successfully!\")"
   ]
  },
  {
   "cell_type": "code",
   "execution_count": null,
   "metadata": {},
   "outputs": [],
   "source": [
    "def convert_pdf_to_image(pdf_path, save_image_path):\n",
    "    \n",
    "    try:\n",
    "        pdf_file_path = pdf_path\n",
    "        poppler_path = r\"C:\\Program Files\\poppler-23.08.0\\Library\\bin\"\n",
    "\n",
    "\n",
    "    except Exception as e:\n",
    "        print(f\"Something went wrong {e}\")"
   ]
  },
  {
   "cell_type": "code",
   "execution_count": null,
   "metadata": {},
   "outputs": [],
   "source": [
    "def send_email(mail_to, image_path):\n",
    "\n",
    "    try:\n",
    "        path = image_path\n",
    "        outlook = win32.Dispatch(\"Outlook.Application\")\n",
    "\n",
    "        mail = outlook.CreateItem(0)\n",
    "        mail.To = mail_to\n",
    "\n",
    "        mail.Subject = \"Email with Embedded Image\"\n",
    "\n",
    "        html_body = f\"\"\"\n",
    "            <html>\n",
    "            <body>\n",
    "            <p>This email contains an embedded image:</p>\n",
    "            <img src=\"cid:image1\" alt=\"Embedded Image\">\n",
    "            <img src=\"cid:image2\" alt=\"Embedded Image\">\n",
    "            </body>\n",
    "            </html>\n",
    "            \"\"\"\n",
    "\n",
    "        mail.HTMLBody = html_body\n",
    "        attachment = mail.Attachments.Add(image_path)\n",
    "\n",
    "        attachment.PropertyAccessor.SetProperty(\"http://schemas.microsoft.com/mapi/proptag/0x3712001E\", \"image1\")\n",
    "        attachment = mail.Attachments.Add(image_path)\n",
    "        attachment.PropertyAccessor.SetProperty(\"http://schemas.microsoft.com/mapi/proptag/0x3712001E\", \"image2\")\n",
    "\n",
    "        mail.Send()\n",
    "\n",
    "    except Exception as e:\n",
    "        print(f\"Something went wrong {e}\")"
   ]
  },
  {
   "cell_type": "code",
   "execution_count": 3,
   "metadata": {},
   "outputs": [
    {
     "name": "stdout",
     "output_type": "stream",
     "text": [
      "Unique ID 1: 485b33ed1cbed3dba7c19e7b71e189669f1d782a7638289e07640727e472868f\n",
      "Unique ID 2: 485b33ed1cbed3dba7c19e7b71e189669f1d782a7638289e07640727e472868f\n"
     ]
    }
   ],
   "source": [
    "import hashlib\n",
    "\n",
    "def create_unique_customer_id(customer_data):\n",
    "    # Concatenate the values from multiple columns\n",
    "    data_to_hash = \"\".join([str(customer_data[column]) for column in customer_data])\n",
    "    \n",
    "    # Create a hash of the concatenated data\n",
    "    unique_id = hashlib.sha256(data_to_hash.encode()).hexdigest()\n",
    "    \n",
    "    return unique_id\n",
    "\n",
    "# Example customer data with duplicate values\n",
    "customer1 = {\n",
    "    \"name\": \"Jane Smith\",\n",
    "    \"email\": \"janesmith@email.com\",\n",
    "    \"mobile\": \"1234567890\"\n",
    "}\n",
    "\n",
    "customer2 = {\n",
    "    \"name\": \"Jane Smith\",\n",
    "    \"email\": \"janesmith@email.com\",\n",
    "    \"mobile\": \"1234567890\"\n",
    "}\n",
    "\n",
    "# Create unique customer IDs\n",
    "unique_id1 = create_unique_customer_id(customer1)\n",
    "unique_id2 = create_unique_customer_id(customer2)\n",
    "\n",
    "print(\"Unique ID 1:\", unique_id1)\n",
    "print(\"Unique ID 2:\", unique_id2)\n"
   ]
  },
  {
   "cell_type": "code",
   "execution_count": null,
   "metadata": {},
   "outputs": [],
   "source": [
    "import uuid\n",
    "\n",
    "def generate_unique_identifier(customer_data):\n",
    "    # Concatenate the common attributes (mobile, email, name) and any differentiating features\n",
    "    unique_string = f\"{customer_data['mobile']}:{customer_data['email']}:{customer_data['name']}:{customer_data['differentiating_feature']}\"\n",
    "\n",
    "    # Generate a UUID from the combined unique string\n",
    "    unique_id = uuid.uuid5(uuid.NAMESPACE_DNS, unique_string)\n",
    "\n",
    "    return unique_id\n",
    "\n",
    "# Example customer data with common attributes and a differentiating feature\n",
    "customer1 = {\n",
    "    'mobile': '123-456-7890',\n",
    "    'email': 'customer@example.com',\n",
    "    'name': 'John Doe',\n",
    "    'differentiating_feature': 'Feature1'\n",
    "}\n",
    "\n",
    "customer2 = {\n",
    "    'mobile': '123-456-7890',\n",
    "    'email': 'customer@example.com',\n",
    "    'name': 'John Doe',\n",
    "    'differentiating_feature': 'Feature2'\n",
    "}\n",
    "\n",
    "# Generate unique identifiers for the two customers\n",
    "unique_id1 = generate_unique_identifier(customer1)\n",
    "unique_id2 = generate_unique_identifier(customer2)\n",
    "\n",
    "print(f\"Unique ID for Customer 1: {unique_id1}\")\n",
    "print(f\"Unique ID for Customer 2: {unique_id2}\")\n"
   ]
  },
  {
   "cell_type": "code",
   "execution_count": 3,
   "metadata": {},
   "outputs": [
    {
     "name": "stdout",
     "output_type": "stream",
     "text": [
      "1505\n",
      "1540\n",
      "1575\n",
      "1610\n",
      "1645\n",
      "1680\n",
      "1715\n",
      "1750\n",
      "1785\n",
      "1820\n",
      "1855\n",
      "1890\n",
      "1925\n",
      "1960\n",
      "1995\n",
      "2030\n",
      "2065\n",
      "2100\n",
      "2135\n",
      "2170\n",
      "2205\n",
      "2240\n",
      "2275\n",
      "2310\n",
      "2345\n",
      "2380\n",
      "2415\n",
      "2450\n",
      "2485\n",
      "2520\n",
      "2555\n",
      "2590\n",
      "2625\n",
      "2660\n",
      "2695\n"
     ]
    }
   ],
   "source": [
    "for i in range(1499, 2701):\n",
    "    if i%7 == 0 and i%5 == 0:\n",
    "        print(i)"
   ]
  },
  {
   "cell_type": "code",
   "execution_count": 7,
   "metadata": {},
   "outputs": [
    {
     "name": "stdout",
     "output_type": "stream",
     "text": [
      "7\n"
     ]
    }
   ],
   "source": [
    "temp = \"45F\"\n",
    "if \"C\" in temp:\n",
    "    converted_temp = (int(temp.split(\"C\")[0]))*9/5 + 32 \n",
    "else:\n",
    "    converted_temp = ((int(temp.split(\"F\")[0])) - 32)/9 * 5\n",
    "\n",
    "print(int(converted_temp))\n"
   ]
  },
  {
   "cell_type": "code",
   "execution_count": 11,
   "metadata": {},
   "outputs": [
    {
     "name": "stdout",
     "output_type": "stream",
     "text": [
      "Well guessed!\n"
     ]
    }
   ],
   "source": [
    "import random\n",
    "target_num, guess_num = random.randint(1, 10), 0\n",
    "while target_num != guess_num:\n",
    "    guess_num = int(input('Guess a number between 1 and 10 until you get it right : '))\n",
    "print('Well guessed!')"
   ]
  },
  {
   "cell_type": "code",
   "execution_count": 32,
   "metadata": {},
   "outputs": [
    {
     "name": "stdout",
     "output_type": "stream",
     "text": [
      " \n",
      "*   \n",
      "*  *   \n",
      "*  *  *   \n",
      "*  *  *  *   \n",
      "*  *  *  *  *   \n",
      "*  *  *  *   \n",
      "*  *  *   \n",
      "*  *   \n",
      "*   \n"
     ]
    }
   ],
   "source": [
    "for i in range(0, 5):\n",
    "    for j in range(i):\n",
    "        print(\"* \", end= \" \")\n",
    "    print(\" \")\n",
    "\n",
    "for i in range(5, 0, -1):\n",
    "    for j in range(i):\n",
    "        print(\"* \", end = \" \")\n",
    "    print(\" \")"
   ]
  },
  {
   "cell_type": "code",
   "execution_count": 55,
   "metadata": {},
   "outputs": [
    {
     "data": {
      "text/plain": [
       "'cba'"
      ]
     },
     "execution_count": 55,
     "metadata": {},
     "output_type": "execute_result"
    }
   ],
   "source": [
    "a = \"abc\"\n",
    "a[::-1]\n"
   ]
  },
  {
   "cell_type": "code",
   "execution_count": 56,
   "metadata": {},
   "outputs": [
    {
     "name": "stdout",
     "output_type": "stream",
     "text": [
      "cba\n"
     ]
    }
   ],
   "source": [
    "input_word = str(input())\n",
    "\n",
    "print(input_word[::-1])"
   ]
  },
  {
   "cell_type": "code",
   "execution_count": 6,
   "metadata": {},
   "outputs": [
    {
     "name": "stdout",
     "output_type": "stream",
     "text": [
      "['a', 'a', 'b', 'a', 'b']\n",
      "['a', 'b']\n"
     ]
    }
   ],
   "source": [
    "from collections import defaultdict\n",
    "\n",
    "groups = list(map(int, input().split()))\n",
    "list_A = []\n",
    "list_B = []\n",
    "\n",
    "for i in range(groups[0]):\n",
    "    letters_A = str(input())\n",
    "    list_A.append(letters_A)\n",
    "\n",
    "for i in range(groups[1]):\n",
    "    letters_B = str(input())\n",
    "    list_B.append(letters_B)\n",
    "\n",
    "print(list_A)\n",
    "print(list_B)"
   ]
  },
  {
   "cell_type": "code",
   "execution_count": 2,
   "metadata": {},
   "outputs": [],
   "source": [
    "import pandas as pd"
   ]
  },
  {
   "cell_type": "code",
   "execution_count": 6,
   "metadata": {},
   "outputs": [
    {
     "data": {
      "text/plain": [
       "pandas.core.series.Series"
      ]
     },
     "execution_count": 6,
     "metadata": {},
     "output_type": "execute_result"
    }
   ],
   "source": [
    "list1 = [1,2,3,4,5]\n",
    "arr = pd.Series(list1)\n",
    "type(arr)"
   ]
  },
  {
   "cell_type": "code",
   "execution_count": 11,
   "metadata": {},
   "outputs": [
    {
     "name": "stdout",
     "output_type": "stream",
     "text": [
      "[1, 2, 3, 4, 5]\n",
      "<class 'list'>\n"
     ]
    }
   ],
   "source": [
    "list1 = [1,2,3,4,5]\n",
    "arr = pd.Series(list1)\n",
    "l1 = arr.to_list()\n",
    "print(l1)\n",
    "print(type(l1))"
   ]
  },
  {
   "cell_type": "code",
   "execution_count": 22,
   "metadata": {},
   "outputs": [],
   "source": [
    "def series_operations(series1, series2):\n",
    "    operation = str(input())\n",
    "    if operation == \"add\":\n",
    "        add_result = series1 + series2\n",
    "        return add_result \n",
    "\n",
    "    elif operation == \"subtract\":\n",
    "        sub_result = series1-series2\n",
    "        return sub_result\n",
    "    \n",
    "    elif operation == \"multiply\":\n",
    "        mul_result = series1*series2\n",
    "        return mul_result\n",
    "    \n",
    "    elif operation == \"divide\":\n",
    "        div_result = series1/series2\n",
    "        return div_result\n",
    "\n",
    "    else:\n",
    "        print(\"operation doesn't exist\")    \n",
    "\n",
    "l1 = [2, 4, 6, 8, 10] \n",
    "l2 = [1, 3, 5, 7, 9]\n",
    "\n",
    "sr1 = pd.Series(l1)\n",
    "sr2 = pd.Series(l2)"
   ]
  },
  {
   "cell_type": "code",
   "execution_count": 25,
   "metadata": {},
   "outputs": [
    {
     "name": "stdout",
     "output_type": "stream",
     "text": [
      "operation doesn't exist\n"
     ]
    }
   ],
   "source": [
    "series_operations(sr1, sr2)"
   ]
  },
  {
   "cell_type": "code",
   "execution_count": null,
   "metadata": {},
   "outputs": [
    {
     "name": "stdout",
     "output_type": "stream",
     "text": [
      "a    100\n",
      "b    200\n",
      "c    300\n",
      "d    400\n",
      "e    800\n",
      "dtype: int64\n"
     ]
    }
   ],
   "source": [
    "import pandas as pd\n",
    "a = {'a': 100, 'b': 200, 'c': 300, 'd': 400, 'e': 800}\n",
    "series = pd.Series(a)\n",
    "print(series)"
   ]
  },
  {
   "cell_type": "code",
   "execution_count": 3,
   "metadata": {},
   "outputs": [
    {
     "name": "stdout",
     "output_type": "stream",
     "text": [
      "0    10\n",
      "1    20\n",
      "2    30\n",
      "3    40\n",
      "4    50\n",
      "dtype: int32\n"
     ]
    }
   ],
   "source": [
    "import numpy as np\n",
    "arr = np.array([10, 20, 30, 40, 50])\n",
    "print(pd.Series(arr))"
   ]
  },
  {
   "cell_type": "code",
   "execution_count": 4,
   "metadata": {},
   "outputs": [
    {
     "name": "stdout",
     "output_type": "stream",
     "text": [
      "0       100\n",
      "1       200\n",
      "2    python\n",
      "3    300.12\n",
      "4       400\n",
      "dtype: object\n",
      "0    100.00\n",
      "1    200.00\n",
      "2       NaN\n",
      "3    300.12\n",
      "4    400.00\n",
      "dtype: float64\n"
     ]
    }
   ],
   "source": [
    "sr1 = pd.Series([100, 200, \"python\", 300.12, 400])\n",
    "print(sr1)\n",
    "sr2 = pd.to_numeric(sr1, errors = \"coerce\")\n",
    "print(sr2)"
   ]
  },
  {
   "cell_type": "code",
   "execution_count": 5,
   "metadata": {},
   "outputs": [
    {
     "data": {
      "text/html": [
       "<div>\n",
       "<style scoped>\n",
       "    .dataframe tbody tr th:only-of-type {\n",
       "        vertical-align: middle;\n",
       "    }\n",
       "\n",
       "    .dataframe tbody tr th {\n",
       "        vertical-align: top;\n",
       "    }\n",
       "\n",
       "    .dataframe thead th {\n",
       "        text-align: right;\n",
       "    }\n",
       "</style>\n",
       "<table border=\"1\" class=\"dataframe\">\n",
       "  <thead>\n",
       "    <tr style=\"text-align: right;\">\n",
       "      <th></th>\n",
       "      <th>col1</th>\n",
       "      <th>col2</th>\n",
       "      <th>col3</th>\n",
       "    </tr>\n",
       "  </thead>\n",
       "  <tbody>\n",
       "    <tr>\n",
       "      <th>0</th>\n",
       "      <td>1</td>\n",
       "      <td>4</td>\n",
       "      <td>7</td>\n",
       "    </tr>\n",
       "    <tr>\n",
       "      <th>1</th>\n",
       "      <td>2</td>\n",
       "      <td>5</td>\n",
       "      <td>5</td>\n",
       "    </tr>\n",
       "    <tr>\n",
       "      <th>2</th>\n",
       "      <td>3</td>\n",
       "      <td>6</td>\n",
       "      <td>8</td>\n",
       "    </tr>\n",
       "    <tr>\n",
       "      <th>3</th>\n",
       "      <td>4</td>\n",
       "      <td>9</td>\n",
       "      <td>12</td>\n",
       "    </tr>\n",
       "    <tr>\n",
       "      <th>4</th>\n",
       "      <td>7</td>\n",
       "      <td>5</td>\n",
       "      <td>1</td>\n",
       "    </tr>\n",
       "    <tr>\n",
       "      <th>5</th>\n",
       "      <td>11</td>\n",
       "      <td>0</td>\n",
       "      <td>11</td>\n",
       "    </tr>\n",
       "  </tbody>\n",
       "</table>\n",
       "</div>"
      ],
      "text/plain": [
       "   col1  col2  col3\n",
       "0     1     4     7\n",
       "1     2     5     5\n",
       "2     3     6     8\n",
       "3     4     9    12\n",
       "4     7     5     1\n",
       "5    11     0    11"
      ]
     },
     "execution_count": 5,
     "metadata": {},
     "output_type": "execute_result"
    }
   ],
   "source": [
    "data = {\"col1\" : [1,2,3,4,7,11],\n",
    "\"col2\" : [4,5,6,9,5,0],\n",
    "\"col3\" : [7,5,8,12,1,11]}\n",
    "\n",
    "df = pd.DataFrame(data=data)\n",
    "df"
   ]
  },
  {
   "cell_type": "code",
   "execution_count": 6,
   "metadata": {},
   "outputs": [],
   "source": [
    "col1 = pd.Series(df[\"col1\"])"
   ]
  },
  {
   "cell_type": "code",
   "execution_count": 12,
   "metadata": {},
   "outputs": [
    {
     "name": "stdout",
     "output_type": "stream",
     "text": [
      "[100 200 'python' 300.12 400]\n",
      "<class 'numpy.ndarray'>\n",
      "[100 200 'python' 300.12 400]\n",
      "<class 'numpy.ndarray'>\n"
     ]
    }
   ],
   "source": [
    "test = pd.Series([100,200,\"python\",300.12,400])\n",
    "print(np.array(test))\n",
    "print(type(np.array(test)))\n",
    "print(test.values)\n",
    "print(type(test.values))"
   ]
  },
  {
   "cell_type": "code",
   "execution_count": 22,
   "metadata": {},
   "outputs": [
    {
     "name": "stdout",
     "output_type": "stream",
     "text": [
      "0    [Red, Green, White]\n",
      "1           [Red, Black]\n",
      "2               [Yellow]\n",
      "dtype: object\n",
      "<class 'pandas.core.series.Series'>\n",
      "0       Red\n",
      "1     Green\n",
      "2     White\n",
      "3       Red\n",
      "4     Black\n",
      "5    Yellow\n",
      "dtype: object\n"
     ]
    }
   ],
   "source": [
    "sr1 = pd.Series([[\"Red\", \"Green\", \"White\"],[\"Red\", \"Black\"],[\"Yellow\"]])\n",
    "print(sr1)\n",
    "print(type(sr1))\n",
    "\n",
    "print(sr1.apply(pd.Series).stack().reset_index(drop=True))"
   ]
  },
  {
   "cell_type": "code",
   "execution_count": 32,
   "metadata": {},
   "outputs": [
    {
     "name": "stdout",
     "output_type": "stream",
     "text": [
      "0       100\n",
      "1       200\n",
      "3    300.12\n",
      "4       400\n",
      "2    python\n",
      "dtype: object\n"
     ]
    }
   ],
   "source": [
    "sr2 = pd.Series([\"100\", \"200\", \"python\", \"300.12\", \"400\"])\n",
    "new_series = pd.Series(sr2).sort_values()\n",
    "print(new_series)"
   ]
  },
  {
   "cell_type": "code",
   "execution_count": 39,
   "metadata": {},
   "outputs": [
    {
     "data": {
      "text/plain": [
       "0       100\n",
       "1       200\n",
       "2    python\n",
       "3    300.12\n",
       "4       400\n",
       "5       500\n",
       "6       php\n",
       "dtype: object"
      ]
     },
     "execution_count": 39,
     "metadata": {},
     "output_type": "execute_result"
    }
   ],
   "source": [
    "sr2 = pd.Series([\"100\", \"200\", \"python\", \"300.12\", \"400\"])\n",
    "new_series = pd.concat([s, pd.Series([\"500\", \"php\"])], ignore_index=True)\n",
    "new_series"
   ]
  },
  {
   "cell_type": "code",
   "execution_count": 5,
   "metadata": {},
   "outputs": [
    {
     "name": "stdout",
     "output_type": "stream",
     "text": [
      "0      0\n",
      "1      1\n",
      "2      2\n",
      "3      3\n",
      "4      4\n",
      "5      5\n",
      "6      6\n",
      "7      7\n",
      "8      8\n",
      "9      9\n",
      "10    10\n",
      "dtype: int64\n",
      "0    0\n",
      "1    1\n",
      "2    2\n",
      "3    3\n",
      "4    4\n",
      "5    5\n",
      "dtype: int64\n"
     ]
    }
   ],
   "source": [
    "import pandas as pd\n",
    "sr1 = pd.Series([0,1,2,3,4,5,6,7,8,9,10])\n",
    "print(sr1)\n",
    "print(sr1[:6])"
   ]
  },
  {
   "cell_type": "code",
   "execution_count": 11,
   "metadata": {},
   "outputs": [
    {
     "data": {
      "text/plain": [
       "B    2\n",
       "A    1\n",
       "C    3\n",
       "D    4\n",
       "E    5\n",
       "dtype: int64"
      ]
     },
     "execution_count": 11,
     "metadata": {},
     "output_type": "execute_result"
    }
   ],
   "source": [
    "s = pd.Series(data=[1,2,3,4,5], index=[\"A\",\"B\",\"C\",\"D\",\"E\"])\n",
    "s.reindex(index=[\"B\",\"A\",\"C\",\"D\",\"E\"])"
   ]
  },
  {
   "cell_type": "code",
   "execution_count": 13,
   "metadata": {},
   "outputs": [
    {
     "data": {
      "text/plain": [
       "12.97390543445659"
      ]
     },
     "execution_count": 13,
     "metadata": {},
     "output_type": "execute_result"
    }
   ],
   "source": [
    "s = pd.Series([1,23,4,5,6,7,8,9,43,23])\n",
    "s.mean()\n",
    "s.std()"
   ]
  },
  {
   "cell_type": "code",
   "execution_count": 18,
   "metadata": {},
   "outputs": [
    {
     "name": "stdout",
     "output_type": "stream",
     "text": [
      "0    1\n",
      "1    2\n",
      "2    3\n",
      "3    4\n",
      "4    5\n",
      "dtype: int64\n",
      "0     2\n",
      "1     4\n",
      "2     6\n",
      "3     8\n",
      "4    10\n",
      "dtype: int64\n",
      "0    1\n",
      "2    3\n",
      "4    5\n",
      "dtype: int64\n"
     ]
    }
   ],
   "source": [
    "s1 = pd.Series([1,2,3,4,5])\n",
    "s2 = pd.Series([2,4,6,8,10])\n",
    "print(s1)\n",
    "print(s2)\n",
    "print(s1[~s1.isin(s2)])"
   ]
  },
  {
   "cell_type": "code",
   "execution_count": 19,
   "metadata": {},
   "outputs": [
    {
     "name": "stdout",
     "output_type": "stream",
     "text": [
      "0    1\n",
      "1    2\n",
      "2    3\n",
      "3    4\n",
      "4    5\n",
      "dtype: int64\n",
      "0     2\n",
      "1     4\n",
      "2     6\n",
      "3     8\n",
      "4    10\n",
      "dtype: int64\n"
     ]
    }
   ],
   "source": [
    "s1 = pd.Series([1,2,3,4,5])\n",
    "s2 = pd.Series([2,4,6,8,10])\n",
    "print(s1)\n",
    "print(s2)"
   ]
  },
  {
   "cell_type": "code",
   "execution_count": 27,
   "metadata": {},
   "outputs": [
    {
     "data": {
      "text/plain": [
       "0     1\n",
       "2     3\n",
       "4     5\n",
       "5     6\n",
       "6     8\n",
       "7    10\n",
       "dtype: int64"
      ]
     },
     "execution_count": 27,
     "metadata": {},
     "output_type": "execute_result"
    }
   ],
   "source": [
    "import numpy as np\n",
    "s11 = pd.Series(np.union1d(s1, s2))\n",
    "s22 = pd.Series(np.intersect1d(s1, s2))\n",
    "\n",
    "s11[~s11.isin(s22)]"
   ]
  },
  {
   "cell_type": "code",
   "execution_count": 37,
   "metadata": {},
   "outputs": [
    {
     "name": "stdout",
     "output_type": "stream",
     "text": [
      "Min is 1\n",
      "Max is 66\n",
      "The median is 8.0\n",
      "The 25th percentile is 4.5\n",
      "The 75th percentile is 27.5\n"
     ]
    }
   ],
   "source": [
    "s1 = pd.Series([1,2,3,4,5,6,7,8,9,11,22,33,44,55,66])\n",
    "print(f\"Min is {s1.min()}\")\n",
    "print(f\"Max is {s1.max()}\")\n",
    "print(f\"The median is {s1.median()}\")\n",
    "print(f\"The 25th percentile is {np.percentile(s1, q=25)}\")\n",
    "print(f\"The 75th percentile is {np.percentile(s1, q=75)}\")"
   ]
  },
  {
   "cell_type": "code",
   "execution_count": 5,
   "metadata": {},
   "outputs": [],
   "source": [
    "import numpy as np\n",
    "import pandas as pd\n",
    "sr = pd.Series(np.arange(1, 40))"
   ]
  },
  {
   "cell_type": "code",
   "execution_count": 6,
   "metadata": {},
   "outputs": [
    {
     "data": {
      "text/plain": [
       "1     1\n",
       "30    1\n",
       "23    1\n",
       "24    1\n",
       "25    1\n",
       "26    1\n",
       "27    1\n",
       "28    1\n",
       "29    1\n",
       "31    1\n",
       "21    1\n",
       "32    1\n",
       "33    1\n",
       "34    1\n",
       "35    1\n",
       "36    1\n",
       "37    1\n",
       "38    1\n",
       "22    1\n",
       "20    1\n",
       "2     1\n",
       "10    1\n",
       "3     1\n",
       "4     1\n",
       "5     1\n",
       "6     1\n",
       "7     1\n",
       "8     1\n",
       "9     1\n",
       "11    1\n",
       "19    1\n",
       "12    1\n",
       "13    1\n",
       "14    1\n",
       "15    1\n",
       "16    1\n",
       "17    1\n",
       "18    1\n",
       "39    1\n",
       "dtype: int64"
      ]
     },
     "execution_count": 6,
     "metadata": {},
     "output_type": "execute_result"
    }
   ],
   "source": [
    "sr.value_counts()"
   ]
  },
  {
   "cell_type": "code",
   "execution_count": 26,
   "metadata": {},
   "outputs": [
    {
     "data": {
      "text/plain": [
       "23"
      ]
     },
     "execution_count": 26,
     "metadata": {},
     "output_type": "execute_result"
    }
   ],
   "source": [
    "sr1 = pd.Series([1,1,1,2,3,4,5,4,3,2,3,4,6,5,4,2,1,2,1,1,3,5,2])\n",
    "sr1.value_counts(sort=True)\n",
    "len(sr1)"
   ]
  },
  {
   "cell_type": "code",
   "execution_count": 27,
   "metadata": {},
   "outputs": [],
   "source": [
    "for i, row in sr1.items():\n",
    "    if sr1[i] != 1:\n",
    "        sr1[i] = \"Other\"\n",
    "    else:\n",
    "        sr1[i] = sr1[i]"
   ]
  },
  {
   "cell_type": "code",
   "execution_count": 28,
   "metadata": {},
   "outputs": [
    {
     "data": {
      "text/plain": [
       "0         1\n",
       "1         1\n",
       "2         1\n",
       "3     Other\n",
       "4     Other\n",
       "5     Other\n",
       "6     Other\n",
       "7     Other\n",
       "8     Other\n",
       "9     Other\n",
       "10    Other\n",
       "11    Other\n",
       "12    Other\n",
       "13    Other\n",
       "14    Other\n",
       "15    Other\n",
       "16        1\n",
       "17    Other\n",
       "18        1\n",
       "19        1\n",
       "20    Other\n",
       "21    Other\n",
       "22    Other\n",
       "dtype: object"
      ]
     },
     "execution_count": 28,
     "metadata": {},
     "output_type": "execute_result"
    }
   ],
   "source": [
    "sr1"
   ]
  },
  {
   "cell_type": "code",
   "execution_count": 4,
   "metadata": {},
   "outputs": [
    {
     "name": "stdout",
     "output_type": "stream",
     "text": [
      "[]\n"
     ]
    }
   ],
   "source": [
    "import pandas as pd\n",
    "import numpy as np\n",
    "sr2 = pd.Series([1,9,8,6,9,7,1,1,1])\n",
    "divisible = []\n",
    "for i, row in sr2.items():\n",
    "    if (row % 5 == 0):\n",
    "        divisible.append(i)\n",
    "    else:\n",
    "        divisible\n",
    "\n",
    "print(divisible)"
   ]
  },
  {
   "cell_type": "code",
   "execution_count": 8,
   "metadata": {},
   "outputs": [
    {
     "name": "stdout",
     "output_type": "stream",
     "text": [
      "the item at positon 0 is 1\n",
      "the item at positon 2 is 3\n",
      "the item at positon 6 is 7\n"
     ]
    }
   ],
   "source": [
    "sr1 = pd.Series(np.arange(1,30))\n",
    "print(f\"the item at positon 0 is {sr1[0]}\")\n",
    "print(f\"the item at positon 2 is {sr1[2]}\")\n",
    "print(f\"the item at positon 6 is {sr1[6]}\")"
   ]
  },
  {
   "cell_type": "code",
   "execution_count": 27,
   "metadata": {},
   "outputs": [
    {
     "data": {
      "text/plain": [
       "[0, 2, 4, 6, 9]"
      ]
     },
     "execution_count": 27,
     "metadata": {},
     "output_type": "execute_result"
    }
   ],
   "source": [
    "sr1 = pd.Series([1,2,3,4,5,6,7,8,9,10])\n",
    "sr2 = pd.Series([1,3,5,7,10])\n",
    "\n",
    "list1 = [pd.Index(sr1).get_loc(i) for i in sr2]\n",
    "list1"
   ]
  },
  {
   "cell_type": "code",
   "execution_count": 35,
   "metadata": {},
   "outputs": [
    {
     "name": "stdout",
     "output_type": "stream",
     "text": [
      "0       PhP\n",
      "1    PythoN\n",
      "2      JavA\n",
      "3        C#\n",
      "dtype: object\n"
     ]
    }
   ],
   "source": [
    "sr1 = pd.Series([\"php\", \"python\", \"java\", \"c#\"])\n",
    "list1 = [i[0].upper() +i[1:-1] + i[-1].upper() for i in sr1]\n",
    "print(pd.Series(list1))"
   ]
  },
  {
   "cell_type": "code",
   "execution_count": 37,
   "metadata": {},
   "outputs": [
    {
     "name": "stdout",
     "output_type": "stream",
     "text": [
      "0    3\n",
      "1    6\n",
      "2    4\n",
      "3    2\n",
      "dtype: int64\n"
     ]
    }
   ],
   "source": [
    "sr1 = pd.Series([\"php\", \"python\", \"java\", \"c#\"])\n",
    "list1 = [len(i) for i in sr1]\n",
    "print(pd.Series(list1))"
   ]
  },
  {
   "cell_type": "code",
   "execution_count": 39,
   "metadata": {},
   "outputs": [
    {
     "data": {
      "text/plain": [
       "0   2015-01-01 00:00:00\n",
       "1   2016-10-02 00:00:00\n",
       "2   2018-03-07 00:00:00\n",
       "3   2014-05-06 00:00:00\n",
       "4   2016-04-12 00:00:00\n",
       "5   2019-04-06 11:20:00\n",
       "dtype: datetime64[ns]"
      ]
     },
     "execution_count": 39,
     "metadata": {},
     "output_type": "execute_result"
    }
   ],
   "source": [
    "sr1 = pd.Series([\"01 Jan 2015\", \"10-02-2016\", \"20180307\", \"2014/05/06\", \"2016-04-12\", \"2019-04-06T11:20\"])\n",
    "sr2 = pd.Series(pd.to_datetime(sr1))\n",
    "sr2"
   ]
  },
  {
   "cell_type": "code",
   "execution_count": 74,
   "metadata": {},
   "outputs": [],
   "source": [
    "day_of_month = []\n",
    "day_of_year = []\n",
    "week_number = []\n",
    "day_of_week = []\n",
    "day_of_month.append(pd.to_datetime(sr1).dt.day)\n",
    "day_of_year.append(pd.to_datetime(sr1).dt.day_of_year)\n",
    "day_of_week.append(pd.to_datetime(sr1).dt.day_name())\n",
    "week_number.append(pd.to_datetime(sr1).dt.isocalendar().week)"
   ]
  },
  {
   "cell_type": "code",
   "execution_count": 75,
   "metadata": {},
   "outputs": [
    {
     "data": {
      "text/plain": [
       "[0     1\n",
       " 1    39\n",
       " 2    10\n",
       " 3    19\n",
       " 4    15\n",
       " 5    14\n",
       " Name: week, dtype: UInt32]"
      ]
     },
     "execution_count": 75,
     "metadata": {},
     "output_type": "execute_result"
    }
   ],
   "source": [
    "week_number"
   ]
  },
  {
   "cell_type": "code",
   "execution_count": null,
   "metadata": {},
   "outputs": [],
   "source": [
    "sr1 = pd.Series([\"Jan 2015\",\"Feb 2016\",\"Mar 2017\",\"Apr 2018\",\"4May 2019\"])"
   ]
  }
 ],
 "metadata": {
  "kernelspec": {
   "display_name": "base",
   "language": "python",
   "name": "python3"
  },
  "language_info": {
   "codemirror_mode": {
    "name": "ipython",
    "version": 3
   },
   "file_extension": ".py",
   "mimetype": "text/x-python",
   "name": "python",
   "nbconvert_exporter": "python",
   "pygments_lexer": "ipython3",
   "version": "3.10.11"
  },
  "orig_nbformat": 4
 },
 "nbformat": 4,
 "nbformat_minor": 2
}
